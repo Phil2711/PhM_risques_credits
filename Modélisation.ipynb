{
 "cells": [
  {
   "cell_type": "code",
   "execution_count": 1,
   "metadata": {},
   "outputs": [],
   "source": [
    "import pandas as pd"
   ]
  },
  {
   "cell_type": "code",
   "execution_count": 2,
   "metadata": {},
   "outputs": [],
   "source": [
    "chemin = 'C:\\\\Users\\\\Sdis59\\\\Documents\\\\OpenClassroom\\\\scoring\\\\Data\\\\home-credit-default-risk\\\\'\n",
    "\n",
    "le_df = pd.read_csv(chemin + 'df_pour_modélisation.csv')"
   ]
  },
  {
   "cell_type": "code",
   "execution_count": 3,
   "metadata": {},
   "outputs": [
    {
     "data": {
      "text/plain": [
       "(307507, 194)"
      ]
     },
     "execution_count": 3,
     "metadata": {},
     "output_type": "execute_result"
    }
   ],
   "source": [
    "le_df.shape"
   ]
  },
  {
   "cell_type": "code",
   "execution_count": 4,
   "metadata": {},
   "outputs": [
    {
     "data": {
      "text/plain": [
       "Index(['Unnamed: 0', 'SK_ID_CURR', 'TARGET', 'CODE_GENDER', 'FLAG_OWN_CAR',\n",
       "       'FLAG_OWN_REALTY', 'CNT_CHILDREN', 'AMT_INCOME_TOTAL', 'AMT_CREDIT',\n",
       "       'REGION_POPULATION_RELATIVE',\n",
       "       ...\n",
       "       'WALLSMATERIAL_MODE_Mixed', 'WALLSMATERIAL_MODE_Monolithic',\n",
       "       'WALLSMATERIAL_MODE_Others', 'WALLSMATERIAL_MODE_Panel',\n",
       "       'WALLSMATERIAL_MODE_Stone, brick', 'WALLSMATERIAL_MODE_Wooden',\n",
       "       'WALLSMATERIAL_MODE_nan', 'EMERGENCYSTATE_MODE_No',\n",
       "       'EMERGENCYSTATE_MODE_Yes', 'EMERGENCYSTATE_MODE_nan'],\n",
       "      dtype='object', length=194)"
      ]
     },
     "execution_count": 4,
     "metadata": {},
     "output_type": "execute_result"
    }
   ],
   "source": [
    "le_df.columns"
   ]
  },
  {
   "cell_type": "code",
   "execution_count": 5,
   "metadata": {},
   "outputs": [],
   "source": [
    "le_df.drop('Unnamed: 0',\n",
    "           axis = 1,\n",
    "           inplace = True)"
   ]
  },
  {
   "cell_type": "code",
   "execution_count": 6,
   "metadata": {},
   "outputs": [
    {
     "data": {
      "text/plain": [
       "Index(['SK_ID_CURR', 'TARGET', 'CODE_GENDER', 'FLAG_OWN_CAR',\n",
       "       'FLAG_OWN_REALTY', 'CNT_CHILDREN', 'AMT_INCOME_TOTAL', 'AMT_CREDIT',\n",
       "       'REGION_POPULATION_RELATIVE', 'DAYS_BIRTH',\n",
       "       ...\n",
       "       'WALLSMATERIAL_MODE_Mixed', 'WALLSMATERIAL_MODE_Monolithic',\n",
       "       'WALLSMATERIAL_MODE_Others', 'WALLSMATERIAL_MODE_Panel',\n",
       "       'WALLSMATERIAL_MODE_Stone, brick', 'WALLSMATERIAL_MODE_Wooden',\n",
       "       'WALLSMATERIAL_MODE_nan', 'EMERGENCYSTATE_MODE_No',\n",
       "       'EMERGENCYSTATE_MODE_Yes', 'EMERGENCYSTATE_MODE_nan'],\n",
       "      dtype='object', length=193)"
      ]
     },
     "execution_count": 6,
     "metadata": {},
     "output_type": "execute_result"
    }
   ],
   "source": [
    "le_df.columns"
   ]
  },
  {
   "cell_type": "markdown",
   "metadata": {},
   "source": [
    "On va séparer le jeu en un jeu test et un jeu d'entrainement"
   ]
  },
  {
   "cell_type": "code",
   "execution_count": 7,
   "metadata": {},
   "outputs": [],
   "source": [
    "from sklearn import model_selection\n",
    "\n",
    "X = le_df[[col for col in le_df.columns if col != 'TARGET']]\n",
    "y = le_df['TARGET']\n",
    "\n",
    "X_entrainement, X_test, y_entrainement, y_test = model_selection.train_test_split(X,\n",
    "                                                                                  y,\n",
    "                                                                                  test_size = 0.3,\n",
    "                                                                                  random_state = 500)"
   ]
  },
  {
   "cell_type": "code",
   "execution_count": 8,
   "metadata": {},
   "outputs": [
    {
     "data": {
      "text/plain": [
       "(215254, 192)"
      ]
     },
     "execution_count": 8,
     "metadata": {},
     "output_type": "execute_result"
    }
   ],
   "source": [
    "X_entrainement.shape"
   ]
  },
  {
   "cell_type": "code",
   "execution_count": 9,
   "metadata": {},
   "outputs": [
    {
     "data": {
      "text/plain": [
       "(215254,)"
      ]
     },
     "execution_count": 9,
     "metadata": {},
     "output_type": "execute_result"
    }
   ],
   "source": [
    "y_entrainement.shape"
   ]
  },
  {
   "cell_type": "code",
   "execution_count": 10,
   "metadata": {},
   "outputs": [
    {
     "data": {
      "text/plain": [
       "(92253, 192)"
      ]
     },
     "execution_count": 10,
     "metadata": {},
     "output_type": "execute_result"
    }
   ],
   "source": [
    "X_test.shape"
   ]
  },
  {
   "cell_type": "markdown",
   "metadata": {},
   "source": [
    "On regarde la répartition des valeurs 0 et 1 des y test et entrainement"
   ]
  },
  {
   "cell_type": "code",
   "execution_count": 11,
   "metadata": {},
   "outputs": [
    {
     "data": {
      "text/html": [
       "<div>\n",
       "<style scoped>\n",
       "    .dataframe tbody tr th:only-of-type {\n",
       "        vertical-align: middle;\n",
       "    }\n",
       "\n",
       "    .dataframe tbody tr th {\n",
       "        vertical-align: top;\n",
       "    }\n",
       "\n",
       "    .dataframe thead th {\n",
       "        text-align: right;\n",
       "    }\n",
       "</style>\n",
       "<table border=\"1\" class=\"dataframe\">\n",
       "  <thead>\n",
       "    <tr style=\"text-align: right;\">\n",
       "      <th></th>\n",
       "      <th>1</th>\n",
       "      <th>0</th>\n",
       "    </tr>\n",
       "  </thead>\n",
       "  <tbody>\n",
       "    <tr>\n",
       "      <th>test</th>\n",
       "      <td>8.06</td>\n",
       "      <td>91.94</td>\n",
       "    </tr>\n",
       "    <tr>\n",
       "      <th>entrainement</th>\n",
       "      <td>8.08</td>\n",
       "      <td>91.92</td>\n",
       "    </tr>\n",
       "  </tbody>\n",
       "</table>\n",
       "</div>"
      ],
      "text/plain": [
       "                 1      0\n",
       "test          8.06  91.94\n",
       "entrainement  8.08  91.92"
      ]
     },
     "execution_count": 11,
     "metadata": {},
     "output_type": "execute_result"
    }
   ],
   "source": [
    "import seaborn as sns\n",
    "import matplotlib.pyplot as plt\n",
    "import numpy as np\n",
    "\n",
    "données = pd.DataFrame(columns = {'0',\n",
    "                                  '1'},\n",
    "                       index = ('test',\n",
    "                                'entrainement'))\n",
    "données['0']['test'] = np.round(100 * y_test[y_test == 0].count() / y_test.shape[0],\n",
    "                                2)\n",
    "données['1']['test'] = np.round(100 * y_test[y_test == 1].count() / y_test.shape[0],\n",
    "                                2)\n",
    "données['0']['entrainement'] = np.round(100 * y_entrainement[y_entrainement == 0].count() / y_entrainement.shape[0],\n",
    "                                2)\n",
    "données['1']['entrainement'] = np.round(100 * y_entrainement[y_entrainement == 1].count() / y_entrainement.shape[0],\n",
    "                                2)                               \n",
    "données\n",
    "# plt.figure(figsize = (10,5))\n",
    "# plt.hist(données,\n",
    "#          bins = 2)\n",
    "# plt.title('Répartition des cibles des jeux test et entrainement')\n",
    "# plt.show()"
   ]
  },
  {
   "cell_type": "markdown",
   "metadata": {},
   "source": [
    "La répartition des cibles est bonne entre les jeux."
   ]
  },
  {
   "cell_type": "code",
   "execution_count": 12,
   "metadata": {},
   "outputs": [],
   "source": [
    "from sklearn.model_selection import StratifiedKFold"
   ]
  },
  {
   "cell_type": "markdown",
   "metadata": {},
   "source": [
    "On va tester différents modèles à l'aide gridsearchCV.\n",
    "On va travailler sur un classificateur naïf, deux arbres et un réseau neuronal.\n",
    "Et calculer deux estimateur  : le béta score et l'AUC.\n",
    "\n",
    "Tout d'abord, on sélectionne les meilleurs paramètres de chaque modèle avant de leur applique SMOTE et de les comparer."
   ]
  },
  {
   "cell_type": "code",
   "execution_count": 13,
   "metadata": {},
   "outputs": [],
   "source": [
    "from sklearn.model_selection import GridSearchCV\n",
    "from sklearn.dummy import DummyClassifier\n",
    "from sklearn.ensemble import RandomForestClassifier\n",
    "from xgboost import XGBClassifier\n",
    "from sklearn.neural_network import MLPClassifier\n",
    "from sklearn.pipeline import Pipeline\n",
    "from sklearn import metrics\n",
    "import time"
   ]
  },
  {
   "cell_type": "code",
   "execution_count": 14,
   "metadata": {},
   "outputs": [],
   "source": [
    "def teste_modèle(X_à_traiter,\n",
    "                 X_à_tester,\n",
    "                 y_à_traiter,\n",
    "                 y_à_tester, \n",
    "                 le_modèle,\n",
    "                 les_paramètres,\n",
    "                 nombre_validations_croisées, \n",
    "                 les_estimateurs) :\n",
    "    \n",
    "    la_grille = GridSearchCV(estimator = le_modèle,\n",
    "                             param_grid = les_paramètres, \n",
    "                             cv = nombre_validations_croisées, \n",
    "                             n_jobs = 1, \n",
    "                             scoring = les_estimateurs,\n",
    "                             verbose = 3,\n",
    "                             refit = 'ROC')\n",
    "\n",
    "    le_modèle_ajusté = la_grille.fit(X_à_traiter,\n",
    "                                     y_à_traiter)\n",
    "    les_valeurs_prédites = le_modèle_ajusté.predict(X_à_tester)\n",
    "    \n",
    "    return le_modèle_ajusté, les_valeurs_prédites"
   ]
  },
  {
   "cell_type": "markdown",
   "metadata": {},
   "source": [
    "Classificateur naïf "
   ]
  },
  {
   "cell_type": "code",
   "execution_count": 15,
   "metadata": {},
   "outputs": [
    {
     "name": "stdout",
     "output_type": "stream",
     "text": [
      "Fitting 5 folds for each of 4 candidates, totalling 20 fits\n"
     ]
    },
    {
     "name": "stderr",
     "output_type": "stream",
     "text": [
      "C:\\Users\\Sdis59\\anaconda3\\lib\\site-packages\\sklearn\\metrics\\_classification.py:1245: UndefinedMetricWarning: Precision is ill-defined and being set to 0.0 due to no predicted samples. Use `zero_division` parameter to control this behavior.\n",
      "  _warn_prf(average, modifier, msg_start, len(result))\n"
     ]
    },
    {
     "name": "stdout",
     "output_type": "stream",
     "text": [
      "[CV 1/5] END strategy=most_frequent; ROC: (test=0.500) exactitude: (test=0.919) f1: (test=0.000) précision: (test=0.000) sensibilté: (test=0.000) total time=   0.3s\n"
     ]
    },
    {
     "name": "stderr",
     "output_type": "stream",
     "text": [
      "C:\\Users\\Sdis59\\anaconda3\\lib\\site-packages\\sklearn\\metrics\\_classification.py:1245: UndefinedMetricWarning: Precision is ill-defined and being set to 0.0 due to no predicted samples. Use `zero_division` parameter to control this behavior.\n",
      "  _warn_prf(average, modifier, msg_start, len(result))\n"
     ]
    },
    {
     "name": "stdout",
     "output_type": "stream",
     "text": [
      "[CV 2/5] END strategy=most_frequent; ROC: (test=0.500) exactitude: (test=0.919) f1: (test=0.000) précision: (test=0.000) sensibilté: (test=0.000) total time=   0.3s\n"
     ]
    },
    {
     "name": "stderr",
     "output_type": "stream",
     "text": [
      "C:\\Users\\Sdis59\\anaconda3\\lib\\site-packages\\sklearn\\metrics\\_classification.py:1245: UndefinedMetricWarning: Precision is ill-defined and being set to 0.0 due to no predicted samples. Use `zero_division` parameter to control this behavior.\n",
      "  _warn_prf(average, modifier, msg_start, len(result))\n"
     ]
    },
    {
     "name": "stdout",
     "output_type": "stream",
     "text": [
      "[CV 3/5] END strategy=most_frequent; ROC: (test=0.500) exactitude: (test=0.919) f1: (test=0.000) précision: (test=0.000) sensibilté: (test=0.000) total time=   0.2s\n",
      "[CV 4/5] END strategy=most_frequent; ROC: (test=0.500) exactitude: (test=0.919) f1: (test=0.000) précision: (test=0.000) sensibilté: (test=0.000) total time=   0.1s\n"
     ]
    },
    {
     "name": "stderr",
     "output_type": "stream",
     "text": [
      "C:\\Users\\Sdis59\\anaconda3\\lib\\site-packages\\sklearn\\metrics\\_classification.py:1245: UndefinedMetricWarning: Precision is ill-defined and being set to 0.0 due to no predicted samples. Use `zero_division` parameter to control this behavior.\n",
      "  _warn_prf(average, modifier, msg_start, len(result))\n",
      "C:\\Users\\Sdis59\\anaconda3\\lib\\site-packages\\sklearn\\metrics\\_classification.py:1245: UndefinedMetricWarning: Precision is ill-defined and being set to 0.0 due to no predicted samples. Use `zero_division` parameter to control this behavior.\n",
      "  _warn_prf(average, modifier, msg_start, len(result))\n"
     ]
    },
    {
     "name": "stdout",
     "output_type": "stream",
     "text": [
      "[CV 5/5] END strategy=most_frequent; ROC: (test=0.500) exactitude: (test=0.919) f1: (test=0.000) précision: (test=0.000) sensibilté: (test=0.000) total time=   0.1s\n",
      "[CV 1/5] END strategy=prior; ROC: (test=0.500) exactitude: (test=0.919) f1: (test=0.000) précision: (test=0.000) sensibilté: (test=0.000) total time=   0.1s\n"
     ]
    },
    {
     "name": "stderr",
     "output_type": "stream",
     "text": [
      "C:\\Users\\Sdis59\\anaconda3\\lib\\site-packages\\sklearn\\metrics\\_classification.py:1245: UndefinedMetricWarning: Precision is ill-defined and being set to 0.0 due to no predicted samples. Use `zero_division` parameter to control this behavior.\n",
      "  _warn_prf(average, modifier, msg_start, len(result))\n",
      "C:\\Users\\Sdis59\\anaconda3\\lib\\site-packages\\sklearn\\metrics\\_classification.py:1245: UndefinedMetricWarning: Precision is ill-defined and being set to 0.0 due to no predicted samples. Use `zero_division` parameter to control this behavior.\n",
      "  _warn_prf(average, modifier, msg_start, len(result))\n",
      "C:\\Users\\Sdis59\\anaconda3\\lib\\site-packages\\sklearn\\metrics\\_classification.py:1245: UndefinedMetricWarning: Precision is ill-defined and being set to 0.0 due to no predicted samples. Use `zero_division` parameter to control this behavior.\n",
      "  _warn_prf(average, modifier, msg_start, len(result))\n"
     ]
    },
    {
     "name": "stdout",
     "output_type": "stream",
     "text": [
      "[CV 2/5] END strategy=prior; ROC: (test=0.500) exactitude: (test=0.919) f1: (test=0.000) précision: (test=0.000) sensibilté: (test=0.000) total time=   0.1s\n",
      "[CV 3/5] END strategy=prior; ROC: (test=0.500) exactitude: (test=0.919) f1: (test=0.000) précision: (test=0.000) sensibilté: (test=0.000) total time=   0.1s\n"
     ]
    },
    {
     "name": "stderr",
     "output_type": "stream",
     "text": [
      "C:\\Users\\Sdis59\\anaconda3\\lib\\site-packages\\sklearn\\metrics\\_classification.py:1245: UndefinedMetricWarning: Precision is ill-defined and being set to 0.0 due to no predicted samples. Use `zero_division` parameter to control this behavior.\n",
      "  _warn_prf(average, modifier, msg_start, len(result))\n"
     ]
    },
    {
     "name": "stdout",
     "output_type": "stream",
     "text": [
      "[CV 4/5] END strategy=prior; ROC: (test=0.500) exactitude: (test=0.919) f1: (test=0.000) précision: (test=0.000) sensibilté: (test=0.000) total time=   0.1s\n",
      "[CV 5/5] END strategy=prior; ROC: (test=0.500) exactitude: (test=0.919) f1: (test=0.000) précision: (test=0.000) sensibilté: (test=0.000) total time=   0.1s\n"
     ]
    },
    {
     "name": "stderr",
     "output_type": "stream",
     "text": [
      "C:\\Users\\Sdis59\\anaconda3\\lib\\site-packages\\sklearn\\metrics\\_classification.py:1245: UndefinedMetricWarning: Precision is ill-defined and being set to 0.0 due to no predicted samples. Use `zero_division` parameter to control this behavior.\n",
      "  _warn_prf(average, modifier, msg_start, len(result))\n"
     ]
    },
    {
     "name": "stdout",
     "output_type": "stream",
     "text": [
      "[CV 1/5] END strategy=stratified; ROC: (test=0.498) exactitude: (test=0.850) f1: (test=0.079) précision: (test=0.078) sensibilté: (test=0.080) total time=   0.1s\n",
      "[CV 2/5] END strategy=stratified; ROC: (test=0.497) exactitude: (test=0.849) f1: (test=0.077) précision: (test=0.076) sensibilté: (test=0.078) total time=   0.2s\n",
      "[CV 3/5] END strategy=stratified; ROC: (test=0.500) exactitude: (test=0.850) f1: (test=0.081) précision: (test=0.080) sensibilté: (test=0.082) total time=   0.1s\n",
      "[CV 4/5] END strategy=stratified; ROC: (test=0.507) exactitude: (test=0.852) f1: (test=0.094) précision: (test=0.093) sensibilté: (test=0.095) total time=   0.1s\n",
      "[CV 5/5] END strategy=stratified; ROC: (test=0.499) exactitude: (test=0.850) f1: (test=0.080) précision: (test=0.079) sensibilté: (test=0.081) total time=   0.3s\n",
      "[CV 1/5] END strategy=uniform; ROC: (test=0.500) exactitude: (test=0.503) f1: (test=0.141) précision: (test=0.082) sensibilté: (test=0.503) total time=   0.2s\n",
      "[CV 2/5] END strategy=uniform; ROC: (test=0.500) exactitude: (test=0.502) f1: (test=0.138) précision: (test=0.080) sensibilté: (test=0.494) total time=   0.2s\n",
      "[CV 3/5] END strategy=uniform; ROC: (test=0.500) exactitude: (test=0.504) f1: (test=0.142) précision: (test=0.082) sensibilté: (test=0.507) total time=   0.2s\n",
      "[CV 4/5] END strategy=uniform; ROC: (test=0.500) exactitude: (test=0.502) f1: (test=0.138) précision: (test=0.080) sensibilté: (test=0.493) total time=   0.1s\n",
      "[CV 5/5] END strategy=uniform; ROC: (test=0.500) exactitude: (test=0.505) f1: (test=0.143) précision: (test=0.083) sensibilté: (test=0.512) total time=   0.2s\n",
      "Meilleur AUC :  0.5002639686976289\n",
      "Meilleurs paramètres : {'strategy': 'stratified'}\n"
     ]
    }
   ],
   "source": [
    "classificateur_naïf = DummyClassifier(random_state = 500)\n",
    "\n",
    "les_paramètres_naïf = {'strategy' : ['most_frequent',\n",
    "                                     'prior',\n",
    "                                     'stratified',\n",
    "                                     'uniform']}\n",
    "\n",
    "cotation = {'f1' : 'f1',\n",
    "            'exactitude' : 'accuracy',\n",
    "            'sensibilté': 'recall',\n",
    "            'précision' : 'precision',\n",
    "            'ROC' : 'roc_auc'}\n",
    "\n",
    "classificateur_naïf, prédictions_naïf = teste_modèle(X_entrainement, \n",
    "                                                     X_test,\n",
    "                                                     y_entrainement,\n",
    "                                                     y_test,\n",
    "                                                     classificateur_naïf, \n",
    "                                                     les_paramètres_naïf,\n",
    "                                                     5,\n",
    "                                                     cotation)\n",
    "\n",
    "print('Meilleur AUC : ',\n",
    "      classificateur_naïf.best_score_)\n",
    "print('Meilleurs paramètres :',\n",
    "      classificateur_naïf.best_params_)            "
   ]
  },
  {
   "cell_type": "markdown",
   "metadata": {},
   "source": [
    "On applique ces paramètres au jeu test"
   ]
  },
  {
   "cell_type": "code",
   "execution_count": 16,
   "metadata": {},
   "outputs": [],
   "source": [
    "modèle_naïf_retenu = DummyClassifier(random_state = 500,\n",
    "                                     strategy = 'stratified')\n",
    "\n",
    "le_modèle_naïf_retenu_ajusté = modèle_naïf_retenu.fit(X_entrainement,\n",
    "                                                      y_entrainement)\n",
    "les_valeurs_prédites_modèle_naïf_retenu = le_modèle_naïf_retenu_ajusté.predict(X_test)        \n",
    "\n",
    "df_résultats_naïf = pd.DataFrame(columns = {'prédits',\n",
    "                                            'réels'})\n",
    "df_résultats_naïf['prédits'] = le_modèle_naïf_retenu_ajusté.predict(X_test) \n",
    "df_résultats_naïf['réels'] = np.array(y_test)"
   ]
  },
  {
   "cell_type": "code",
   "execution_count": 17,
   "metadata": {},
   "outputs": [
    {
     "data": {
      "image/png": "[encoded data removed]",
      "text/plain": [
       "<Figure size 360x360 with 1 Axes>"
      ]
     },
     "metadata": {
      "needs_background": "light"
     },
     "output_type": "display_data"
    },
    {
     "name": "stdout",
     "output_type": "stream",
     "text": [
      "              precision    recall  f1-score   support\n",
      "\n",
      "           0       0.92      0.92      0.92     84851\n",
      "           1       0.08      0.08      0.08      7402\n",
      "\n",
      "    accuracy                           0.85     92253\n",
      "   macro avg       0.50      0.50      0.50     92253\n",
      "weighted avg       0.85      0.85      0.85     92253\n",
      "\n"
     ]
    }
   ],
   "source": [
    "matrice_de_confusion_naïf = metrics.confusion_matrix(les_valeurs_prédites_modèle_naïf_retenu,\n",
    "                                                     np.array(y_test))\n",
    "les_textes = np.array((['Vrais négatifs\\n' + str(matrice_de_confusion_naïf[0][0]),\n",
    "                       'Faux négatifss\\n' + str(matrice_de_confusion_naïf[0][1])],\n",
    "                       ['Faux positifss\\n' + str(matrice_de_confusion_naïf[1][0]),\n",
    "                        'Vrais positifs\\n' + str(matrice_de_confusion_naïf[1][1])]),\n",
    "                       dtype = 'object')\n",
    "\n",
    "plt.figure(figsize = (5,\n",
    "                      5))\n",
    "sns.heatmap(matrice_de_confusion_naïf,\n",
    "            cmap = 'icefire',\n",
    "            annot = les_textes,\n",
    "            cbar = False,\n",
    "            fmt = '',\n",
    "            linewidths = .5)\n",
    "plt.xlabel('Réels')\n",
    "plt.ylabel('Prédits')\n",
    "plt.title('Matrice de confusion du modèle naïf\\n(positif = classe 1)',\n",
    "          fontsize = 12,\n",
    "          fontweight = 'bold')\n",
    "plt.show()\n",
    "\n",
    "print(metrics.classification_report(les_valeurs_prédites_modèle_naïf_retenu,\n",
    "                                                     np.array(y_test)))"
   ]
  },
  {
   "cell_type": "code",
   "execution_count": null,
   "metadata": {},
   "outputs": [],
   "source": [
    "def trace_ROC(le_modèle,\n",
    "              nom_modèle) :\n",
    "    y_predits_probabilités = le_modèle.predict_proba(X_test)[ : , 1]\n",
    "    [taux_de_faux_positifs,taux_de_vrais_positifs, seuil] = metrics.roc_curve(y_test,\n",
    "                                                                              y_predits_probabilités)\n",
    "    plt.plot(taux_de_faux_positifs,\n",
    "             taux_de_vrais_positifs,\n",
    "             color = 'coral',\n",
    "             lw = 2)\n",
    "    plt.xlim([0.0, \n",
    "              1.0])\n",
    "    plt.ylim([0.0,\n",
    "              1.05])\n",
    "    plt.xlabel('1 - specificite',\n",
    "               fontsize = 14)\n",
    "    plt.ylabel('Sensibilite',\n",
    "               fontsize = 14)\n",
    "    plt.title('Courbe ROC ' + nom_modèle,\n",
    "              fontsize = 12,\n",
    "              fontweight = 'bold')\n",
    "    plt.show()\n",
    "\n",
    "    auc = metrics.auc(taux_de_faux_positifs,\n",
    "                      taux_de_vrais_positifs)\n",
    "\n",
    "    print('AUC du {} : {:.2f}'.format(nom_modèle,\n",
    "                                         auc))\n",
    "\n",
    "    return auc, taux_de_faux_positifs, taux_de_vrais_positifs, seuil"
   ]
  },
  {
   "cell_type": "code",
   "execution_count": null,
   "metadata": {},
   "outputs": [
    {
     "data": {
      "image/png": "[encoded data removed]",
      "text/plain": [
       "<Figure size 432x288 with 1 Axes>"
      ]
     },
     "metadata": {
      "needs_background": "light"
     },
     "output_type": "display_data"
    },
    {
     "name": "stdout",
     "output_type": "stream",
     "text": [
      "AUC du modèle naïf : 0.50\n"
     ]
    }
   ],
   "source": [
    "auc_naïf, FP_naïf, TP_naïf, seuil_naïf = trace_ROC(le_modèle_naïf_retenu_ajusté,\n",
    "                     'modèle naïf')"
   ]
  },
  {
   "cell_type": "markdown",
   "metadata": {},
   "source": [
    "Random Forest"
   ]
  },
  {
   "cell_type": "code",
   "execution_count": 20,
   "metadata": {},
   "outputs": [
    {
     "name": "stdout",
     "output_type": "stream",
     "text": [
      "Fitting 5 folds for each of 9 candidates, totalling 45 fits\n"
     ]
    },
    {
     "name": "stderr",
     "output_type": "stream",
     "text": [
      "C:\\Users\\Sdis59\\anaconda3\\lib\\site-packages\\sklearn\\metrics\\_classification.py:1245: UndefinedMetricWarning: Precision is ill-defined and being set to 0.0 due to no predicted samples. Use `zero_division` parameter to control this behavior.\n",
      "  _warn_prf(average, modifier, msg_start, len(result))\n"
     ]
    },
    {
     "name": "stdout",
     "output_type": "stream",
     "text": [
      "[CV 1/5] END bootstrap=True, criterion=gini, max_depth=1, max_features=auto, n_estimators=100, oob_score=True; ROC: (test=0.635) exactitude: (test=0.919) f1: (test=0.000) précision: (test=0.000) sensibilté: (test=0.000) total time=  24.0s\n"
     ]
    },
    {
     "name": "stderr",
     "output_type": "stream",
     "text": [
      "C:\\Users\\Sdis59\\anaconda3\\lib\\site-packages\\sklearn\\metrics\\_classification.py:1245: UndefinedMetricWarning: Precision is ill-defined and being set to 0.0 due to no predicted samples. Use `zero_division` parameter to control this behavior.\n",
      "  _warn_prf(average, modifier, msg_start, len(result))\n"
     ]
    },
    {
     "name": "stdout",
     "output_type": "stream",
     "text": [
      "[CV 2/5] END bootstrap=True, criterion=gini, max_depth=1, max_features=auto, n_estimators=100, oob_score=True; ROC: (test=0.640) exactitude: (test=0.919) f1: (test=0.000) précision: (test=0.000) sensibilté: (test=0.000) total time=  24.5s\n"
     ]
    },
    {
     "name": "stderr",
     "output_type": "stream",
     "text": [
      "C:\\Users\\Sdis59\\anaconda3\\lib\\site-packages\\sklearn\\metrics\\_classification.py:1245: UndefinedMetricWarning: Precision is ill-defined and being set to 0.0 due to no predicted samples. Use `zero_division` parameter to control this behavior.\n",
      "  _warn_prf(average, modifier, msg_start, len(result))\n"
     ]
    },
    {
     "name": "stdout",
     "output_type": "stream",
     "text": [
      "[CV 3/5] END bootstrap=True, criterion=gini, max_depth=1, max_features=auto, n_estimators=100, oob_score=True; ROC: (test=0.625) exactitude: (test=0.919) f1: (test=0.000) précision: (test=0.000) sensibilté: (test=0.000) total time=  24.6s\n"
     ]
    },
    {
     "name": "stderr",
     "output_type": "stream",
     "text": [
      "C:\\Users\\Sdis59\\anaconda3\\lib\\site-packages\\sklearn\\metrics\\_classification.py:1245: UndefinedMetricWarning: Precision is ill-defined and being set to 0.0 due to no predicted samples. Use `zero_division` parameter to control this behavior.\n",
      "  _warn_prf(average, modifier, msg_start, len(result))\n"
     ]
    },
    {
     "name": "stdout",
     "output_type": "stream",
     "text": [
      "[CV 4/5] END bootstrap=True, criterion=gini, max_depth=1, max_features=auto, n_estimators=100, oob_score=True; ROC: (test=0.626) exactitude: (test=0.919) f1: (test=0.000) précision: (test=0.000) sensibilté: (test=0.000) total time=  22.4s\n"
     ]
    },
    {
     "name": "stderr",
     "output_type": "stream",
     "text": [
      "C:\\Users\\Sdis59\\anaconda3\\lib\\site-packages\\sklearn\\metrics\\_classification.py:1245: UndefinedMetricWarning: Precision is ill-defined and being set to 0.0 due to no predicted samples. Use `zero_division` parameter to control this behavior.\n",
      "  _warn_prf(average, modifier, msg_start, len(result))\n"
     ]
    },
    {
     "name": "stdout",
     "output_type": "stream",
     "text": [
      "[CV 5/5] END bootstrap=True, criterion=gini, max_depth=1, max_features=auto, n_estimators=100, oob_score=True; ROC: (test=0.622) exactitude: (test=0.919) f1: (test=0.000) précision: (test=0.000) sensibilté: (test=0.000) total time=  10.1s\n"
     ]
    },
    {
     "name": "stderr",
     "output_type": "stream",
     "text": [
      "C:\\Users\\Sdis59\\anaconda3\\lib\\site-packages\\sklearn\\metrics\\_classification.py:1245: UndefinedMetricWarning: Precision is ill-defined and being set to 0.0 due to no predicted samples. Use `zero_division` parameter to control this behavior.\n",
      "  _warn_prf(average, modifier, msg_start, len(result))\n"
     ]
    },
    {
     "name": "stdout",
     "output_type": "stream",
     "text": [
      "[CV 1/5] END bootstrap=True, criterion=gini, max_depth=1, max_features=auto, n_estimators=200, oob_score=True; ROC: (test=0.642) exactitude: (test=0.919) f1: (test=0.000) précision: (test=0.000) sensibilté: (test=0.000) total time=  20.6s\n"
     ]
    },
    {
     "name": "stderr",
     "output_type": "stream",
     "text": [
      "C:\\Users\\Sdis59\\anaconda3\\lib\\site-packages\\sklearn\\metrics\\_classification.py:1245: UndefinedMetricWarning: Precision is ill-defined and being set to 0.0 due to no predicted samples. Use `zero_division` parameter to control this behavior.\n",
      "  _warn_prf(average, modifier, msg_start, len(result))\n"
     ]
    },
    {
     "name": "stdout",
     "output_type": "stream",
     "text": [
      "[CV 2/5] END bootstrap=True, criterion=gini, max_depth=1, max_features=auto, n_estimators=200, oob_score=True; ROC: (test=0.645) exactitude: (test=0.919) f1: (test=0.000) précision: (test=0.000) sensibilté: (test=0.000) total time=  19.8s\n"
     ]
    },
    {
     "name": "stderr",
     "output_type": "stream",
     "text": [
      "C:\\Users\\Sdis59\\anaconda3\\lib\\site-packages\\sklearn\\metrics\\_classification.py:1245: UndefinedMetricWarning: Precision is ill-defined and being set to 0.0 due to no predicted samples. Use `zero_division` parameter to control this behavior.\n",
      "  _warn_prf(average, modifier, msg_start, len(result))\n"
     ]
    },
    {
     "name": "stdout",
     "output_type": "stream",
     "text": [
      "[CV 3/5] END bootstrap=True, criterion=gini, max_depth=1, max_features=auto, n_estimators=200, oob_score=True; ROC: (test=0.634) exactitude: (test=0.919) f1: (test=0.000) précision: (test=0.000) sensibilté: (test=0.000) total time=  19.6s\n"
     ]
    },
    {
     "name": "stderr",
     "output_type": "stream",
     "text": [
      "C:\\Users\\Sdis59\\anaconda3\\lib\\site-packages\\sklearn\\metrics\\_classification.py:1245: UndefinedMetricWarning: Precision is ill-defined and being set to 0.0 due to no predicted samples. Use `zero_division` parameter to control this behavior.\n",
      "  _warn_prf(average, modifier, msg_start, len(result))\n"
     ]
    },
    {
     "name": "stdout",
     "output_type": "stream",
     "text": [
      "[CV 4/5] END bootstrap=True, criterion=gini, max_depth=1, max_features=auto, n_estimators=200, oob_score=True; ROC: (test=0.634) exactitude: (test=0.919) f1: (test=0.000) précision: (test=0.000) sensibilté: (test=0.000) total time=  19.4s\n"
     ]
    },
    {
     "name": "stderr",
     "output_type": "stream",
     "text": [
      "C:\\Users\\Sdis59\\anaconda3\\lib\\site-packages\\sklearn\\metrics\\_classification.py:1245: UndefinedMetricWarning: Precision is ill-defined and being set to 0.0 due to no predicted samples. Use `zero_division` parameter to control this behavior.\n",
      "  _warn_prf(average, modifier, msg_start, len(result))\n"
     ]
    },
    {
     "name": "stdout",
     "output_type": "stream",
     "text": [
      "[CV 5/5] END bootstrap=True, criterion=gini, max_depth=1, max_features=auto, n_estimators=200, oob_score=True; ROC: (test=0.630) exactitude: (test=0.919) f1: (test=0.000) précision: (test=0.000) sensibilté: (test=0.000) total time=  18.8s\n"
     ]
    },
    {
     "name": "stderr",
     "output_type": "stream",
     "text": [
      "C:\\Users\\Sdis59\\anaconda3\\lib\\site-packages\\sklearn\\metrics\\_classification.py:1245: UndefinedMetricWarning: Precision is ill-defined and being set to 0.0 due to no predicted samples. Use `zero_division` parameter to control this behavior.\n",
      "  _warn_prf(average, modifier, msg_start, len(result))\n"
     ]
    },
    {
     "name": "stdout",
     "output_type": "stream",
     "text": [
      "[CV 1/5] END bootstrap=True, criterion=gini, max_depth=1, max_features=auto, n_estimators=300, oob_score=True; ROC: (test=0.642) exactitude: (test=0.919) f1: (test=0.000) précision: (test=0.000) sensibilté: (test=0.000) total time=  31.2s\n"
     ]
    },
    {
     "name": "stderr",
     "output_type": "stream",
     "text": [
      "C:\\Users\\Sdis59\\anaconda3\\lib\\site-packages\\sklearn\\metrics\\_classification.py:1245: UndefinedMetricWarning: Precision is ill-defined and being set to 0.0 due to no predicted samples. Use `zero_division` parameter to control this behavior.\n",
      "  _warn_prf(average, modifier, msg_start, len(result))\n"
     ]
    },
    {
     "name": "stdout",
     "output_type": "stream",
     "text": [
      "[CV 2/5] END bootstrap=True, criterion=gini, max_depth=1, max_features=auto, n_estimators=300, oob_score=True; ROC: (test=0.645) exactitude: (test=0.919) f1: (test=0.000) précision: (test=0.000) sensibilté: (test=0.000) total time=  31.2s\n"
     ]
    },
    {
     "name": "stderr",
     "output_type": "stream",
     "text": [
      "C:\\Users\\Sdis59\\anaconda3\\lib\\site-packages\\sklearn\\metrics\\_classification.py:1245: UndefinedMetricWarning: Precision is ill-defined and being set to 0.0 due to no predicted samples. Use `zero_division` parameter to control this behavior.\n",
      "  _warn_prf(average, modifier, msg_start, len(result))\n"
     ]
    },
    {
     "name": "stdout",
     "output_type": "stream",
     "text": [
      "[CV 3/5] END bootstrap=True, criterion=gini, max_depth=1, max_features=auto, n_estimators=300, oob_score=True; ROC: (test=0.632) exactitude: (test=0.919) f1: (test=0.000) précision: (test=0.000) sensibilté: (test=0.000) total time=  31.0s\n"
     ]
    },
    {
     "name": "stderr",
     "output_type": "stream",
     "text": [
      "C:\\Users\\Sdis59\\anaconda3\\lib\\site-packages\\sklearn\\metrics\\_classification.py:1245: UndefinedMetricWarning: Precision is ill-defined and being set to 0.0 due to no predicted samples. Use `zero_division` parameter to control this behavior.\n",
      "  _warn_prf(average, modifier, msg_start, len(result))\n"
     ]
    },
    {
     "name": "stdout",
     "output_type": "stream",
     "text": [
      "[CV 4/5] END bootstrap=True, criterion=gini, max_depth=1, max_features=auto, n_estimators=300, oob_score=True; ROC: (test=0.633) exactitude: (test=0.919) f1: (test=0.000) précision: (test=0.000) sensibilté: (test=0.000) total time=  31.0s\n"
     ]
    },
    {
     "name": "stderr",
     "output_type": "stream",
     "text": [
      "C:\\Users\\Sdis59\\anaconda3\\lib\\site-packages\\sklearn\\metrics\\_classification.py:1245: UndefinedMetricWarning: Precision is ill-defined and being set to 0.0 due to no predicted samples. Use `zero_division` parameter to control this behavior.\n",
      "  _warn_prf(average, modifier, msg_start, len(result))\n"
     ]
    },
    {
     "name": "stdout",
     "output_type": "stream",
     "text": [
      "[CV 5/5] END bootstrap=True, criterion=gini, max_depth=1, max_features=auto, n_estimators=300, oob_score=True; ROC: (test=0.630) exactitude: (test=0.919) f1: (test=0.000) précision: (test=0.000) sensibilté: (test=0.000) total time=  28.2s\n"
     ]
    },
    {
     "name": "stderr",
     "output_type": "stream",
     "text": [
      "C:\\Users\\Sdis59\\anaconda3\\lib\\site-packages\\sklearn\\metrics\\_classification.py:1245: UndefinedMetricWarning: Precision is ill-defined and being set to 0.0 due to no predicted samples. Use `zero_division` parameter to control this behavior.\n",
      "  _warn_prf(average, modifier, msg_start, len(result))\n"
     ]
    },
    {
     "name": "stdout",
     "output_type": "stream",
     "text": [
      "[CV 1/5] END bootstrap=True, criterion=gini, max_depth=5, max_features=auto, n_estimators=100, oob_score=True; ROC: (test=0.654) exactitude: (test=0.919) f1: (test=0.000) précision: (test=0.000) sensibilté: (test=0.000) total time=  19.0s\n"
     ]
    },
    {
     "name": "stderr",
     "output_type": "stream",
     "text": [
      "C:\\Users\\Sdis59\\anaconda3\\lib\\site-packages\\sklearn\\metrics\\_classification.py:1245: UndefinedMetricWarning: Precision is ill-defined and being set to 0.0 due to no predicted samples. Use `zero_division` parameter to control this behavior.\n",
      "  _warn_prf(average, modifier, msg_start, len(result))\n"
     ]
    },
    {
     "name": "stdout",
     "output_type": "stream",
     "text": [
      "[CV 2/5] END bootstrap=True, criterion=gini, max_depth=5, max_features=auto, n_estimators=100, oob_score=True; ROC: (test=0.657) exactitude: (test=0.919) f1: (test=0.000) précision: (test=0.000) sensibilté: (test=0.000) total time=  19.1s\n"
     ]
    },
    {
     "name": "stderr",
     "output_type": "stream",
     "text": [
      "C:\\Users\\Sdis59\\anaconda3\\lib\\site-packages\\sklearn\\metrics\\_classification.py:1245: UndefinedMetricWarning: Precision is ill-defined and being set to 0.0 due to no predicted samples. Use `zero_division` parameter to control this behavior.\n",
      "  _warn_prf(average, modifier, msg_start, len(result))\n"
     ]
    },
    {
     "name": "stdout",
     "output_type": "stream",
     "text": [
      "[CV 3/5] END bootstrap=True, criterion=gini, max_depth=5, max_features=auto, n_estimators=100, oob_score=True; ROC: (test=0.647) exactitude: (test=0.919) f1: (test=0.000) précision: (test=0.000) sensibilté: (test=0.000) total time=  19.0s\n"
     ]
    },
    {
     "name": "stderr",
     "output_type": "stream",
     "text": [
      "C:\\Users\\Sdis59\\anaconda3\\lib\\site-packages\\sklearn\\metrics\\_classification.py:1245: UndefinedMetricWarning: Precision is ill-defined and being set to 0.0 due to no predicted samples. Use `zero_division` parameter to control this behavior.\n",
      "  _warn_prf(average, modifier, msg_start, len(result))\n"
     ]
    },
    {
     "name": "stdout",
     "output_type": "stream",
     "text": [
      "[CV 4/5] END bootstrap=True, criterion=gini, max_depth=5, max_features=auto, n_estimators=100, oob_score=True; ROC: (test=0.650) exactitude: (test=0.919) f1: (test=0.000) précision: (test=0.000) sensibilté: (test=0.000) total time=  19.0s\n"
     ]
    },
    {
     "name": "stderr",
     "output_type": "stream",
     "text": [
      "C:\\Users\\Sdis59\\anaconda3\\lib\\site-packages\\sklearn\\metrics\\_classification.py:1245: UndefinedMetricWarning: Precision is ill-defined and being set to 0.0 due to no predicted samples. Use `zero_division` parameter to control this behavior.\n",
      "  _warn_prf(average, modifier, msg_start, len(result))\n"
     ]
    },
    {
     "name": "stdout",
     "output_type": "stream",
     "text": [
      "[CV 5/5] END bootstrap=True, criterion=gini, max_depth=5, max_features=auto, n_estimators=100, oob_score=True; ROC: (test=0.645) exactitude: (test=0.919) f1: (test=0.000) précision: (test=0.000) sensibilté: (test=0.000) total time=  17.9s\n"
     ]
    },
    {
     "name": "stderr",
     "output_type": "stream",
     "text": [
      "C:\\Users\\Sdis59\\anaconda3\\lib\\site-packages\\sklearn\\metrics\\_classification.py:1245: UndefinedMetricWarning: Precision is ill-defined and being set to 0.0 due to no predicted samples. Use `zero_division` parameter to control this behavior.\n",
      "  _warn_prf(average, modifier, msg_start, len(result))\n"
     ]
    },
    {
     "name": "stdout",
     "output_type": "stream",
     "text": [
      "[CV 1/5] END bootstrap=True, criterion=gini, max_depth=5, max_features=auto, n_estimators=200, oob_score=True; ROC: (test=0.654) exactitude: (test=0.919) f1: (test=0.000) précision: (test=0.000) sensibilté: (test=0.000) total time=  37.8s\n"
     ]
    },
    {
     "name": "stderr",
     "output_type": "stream",
     "text": [
      "C:\\Users\\Sdis59\\anaconda3\\lib\\site-packages\\sklearn\\metrics\\_classification.py:1245: UndefinedMetricWarning: Precision is ill-defined and being set to 0.0 due to no predicted samples. Use `zero_division` parameter to control this behavior.\n",
      "  _warn_prf(average, modifier, msg_start, len(result))\n"
     ]
    },
    {
     "name": "stdout",
     "output_type": "stream",
     "text": [
      "[CV 2/5] END bootstrap=True, criterion=gini, max_depth=5, max_features=auto, n_estimators=200, oob_score=True; ROC: (test=0.657) exactitude: (test=0.919) f1: (test=0.000) précision: (test=0.000) sensibilté: (test=0.000) total time=  37.8s\n"
     ]
    },
    {
     "name": "stderr",
     "output_type": "stream",
     "text": [
      "C:\\Users\\Sdis59\\anaconda3\\lib\\site-packages\\sklearn\\metrics\\_classification.py:1245: UndefinedMetricWarning: Precision is ill-defined and being set to 0.0 due to no predicted samples. Use `zero_division` parameter to control this behavior.\n",
      "  _warn_prf(average, modifier, msg_start, len(result))\n"
     ]
    },
    {
     "name": "stdout",
     "output_type": "stream",
     "text": [
      "[CV 3/5] END bootstrap=True, criterion=gini, max_depth=5, max_features=auto, n_estimators=200, oob_score=True; ROC: (test=0.648) exactitude: (test=0.919) f1: (test=0.000) précision: (test=0.000) sensibilté: (test=0.000) total time=  37.8s\n"
     ]
    },
    {
     "name": "stderr",
     "output_type": "stream",
     "text": [
      "C:\\Users\\Sdis59\\anaconda3\\lib\\site-packages\\sklearn\\metrics\\_classification.py:1245: UndefinedMetricWarning: Precision is ill-defined and being set to 0.0 due to no predicted samples. Use `zero_division` parameter to control this behavior.\n",
      "  _warn_prf(average, modifier, msg_start, len(result))\n"
     ]
    },
    {
     "name": "stdout",
     "output_type": "stream",
     "text": [
      "[CV 4/5] END bootstrap=True, criterion=gini, max_depth=5, max_features=auto, n_estimators=200, oob_score=True; ROC: (test=0.651) exactitude: (test=0.919) f1: (test=0.000) précision: (test=0.000) sensibilté: (test=0.000) total time=  38.0s\n"
     ]
    },
    {
     "name": "stderr",
     "output_type": "stream",
     "text": [
      "C:\\Users\\Sdis59\\anaconda3\\lib\\site-packages\\sklearn\\metrics\\_classification.py:1245: UndefinedMetricWarning: Precision is ill-defined and being set to 0.0 due to no predicted samples. Use `zero_division` parameter to control this behavior.\n",
      "  _warn_prf(average, modifier, msg_start, len(result))\n"
     ]
    },
    {
     "name": "stdout",
     "output_type": "stream",
     "text": [
      "[CV 5/5] END bootstrap=True, criterion=gini, max_depth=5, max_features=auto, n_estimators=200, oob_score=True; ROC: (test=0.645) exactitude: (test=0.919) f1: (test=0.000) précision: (test=0.000) sensibilté: (test=0.000) total time=  35.7s\n"
     ]
    },
    {
     "name": "stderr",
     "output_type": "stream",
     "text": [
      "C:\\Users\\Sdis59\\anaconda3\\lib\\site-packages\\sklearn\\metrics\\_classification.py:1245: UndefinedMetricWarning: Precision is ill-defined and being set to 0.0 due to no predicted samples. Use `zero_division` parameter to control this behavior.\n",
      "  _warn_prf(average, modifier, msg_start, len(result))\n"
     ]
    },
    {
     "name": "stdout",
     "output_type": "stream",
     "text": [
      "[CV 1/5] END bootstrap=True, criterion=gini, max_depth=5, max_features=auto, n_estimators=300, oob_score=True; ROC: (test=0.654) exactitude: (test=0.919) f1: (test=0.000) précision: (test=0.000) sensibilté: (test=0.000) total time=  56.2s\n"
     ]
    },
    {
     "name": "stderr",
     "output_type": "stream",
     "text": [
      "C:\\Users\\Sdis59\\anaconda3\\lib\\site-packages\\sklearn\\metrics\\_classification.py:1245: UndefinedMetricWarning: Precision is ill-defined and being set to 0.0 due to no predicted samples. Use `zero_division` parameter to control this behavior.\n",
      "  _warn_prf(average, modifier, msg_start, len(result))\n"
     ]
    },
    {
     "name": "stdout",
     "output_type": "stream",
     "text": [
      "[CV 2/5] END bootstrap=True, criterion=gini, max_depth=5, max_features=auto, n_estimators=300, oob_score=True; ROC: (test=0.657) exactitude: (test=0.919) f1: (test=0.000) précision: (test=0.000) sensibilté: (test=0.000) total time= 3.9min\n"
     ]
    },
    {
     "name": "stderr",
     "output_type": "stream",
     "text": [
      "C:\\Users\\Sdis59\\anaconda3\\lib\\site-packages\\sklearn\\metrics\\_classification.py:1245: UndefinedMetricWarning: Precision is ill-defined and being set to 0.0 due to no predicted samples. Use `zero_division` parameter to control this behavior.\n",
      "  _warn_prf(average, modifier, msg_start, len(result))\n"
     ]
    },
    {
     "name": "stdout",
     "output_type": "stream",
     "text": [
      "[CV 3/5] END bootstrap=True, criterion=gini, max_depth=5, max_features=auto, n_estimators=300, oob_score=True; ROC: (test=0.647) exactitude: (test=0.919) f1: (test=0.000) précision: (test=0.000) sensibilté: (test=0.000) total time= 1.1min\n"
     ]
    },
    {
     "name": "stderr",
     "output_type": "stream",
     "text": [
      "C:\\Users\\Sdis59\\anaconda3\\lib\\site-packages\\sklearn\\metrics\\_classification.py:1245: UndefinedMetricWarning: Precision is ill-defined and being set to 0.0 due to no predicted samples. Use `zero_division` parameter to control this behavior.\n",
      "  _warn_prf(average, modifier, msg_start, len(result))\n"
     ]
    },
    {
     "name": "stdout",
     "output_type": "stream",
     "text": [
      "[CV 4/5] END bootstrap=True, criterion=gini, max_depth=5, max_features=auto, n_estimators=300, oob_score=True; ROC: (test=0.650) exactitude: (test=0.919) f1: (test=0.000) précision: (test=0.000) sensibilté: (test=0.000) total time= 1.1min\n"
     ]
    },
    {
     "name": "stderr",
     "output_type": "stream",
     "text": [
      "C:\\Users\\Sdis59\\anaconda3\\lib\\site-packages\\sklearn\\metrics\\_classification.py:1245: UndefinedMetricWarning: Precision is ill-defined and being set to 0.0 due to no predicted samples. Use `zero_division` parameter to control this behavior.\n",
      "  _warn_prf(average, modifier, msg_start, len(result))\n"
     ]
    },
    {
     "name": "stdout",
     "output_type": "stream",
     "text": [
      "[CV 5/5] END bootstrap=True, criterion=gini, max_depth=5, max_features=auto, n_estimators=300, oob_score=True; ROC: (test=0.645) exactitude: (test=0.919) f1: (test=0.000) précision: (test=0.000) sensibilté: (test=0.000) total time= 1.1min\n"
     ]
    },
    {
     "name": "stderr",
     "output_type": "stream",
     "text": [
      "C:\\Users\\Sdis59\\anaconda3\\lib\\site-packages\\sklearn\\metrics\\_classification.py:1245: UndefinedMetricWarning: Precision is ill-defined and being set to 0.0 due to no predicted samples. Use `zero_division` parameter to control this behavior.\n",
      "  _warn_prf(average, modifier, msg_start, len(result))\n"
     ]
    },
    {
     "name": "stdout",
     "output_type": "stream",
     "text": [
      "[CV 1/5] END bootstrap=True, criterion=gini, max_depth=10, max_features=auto, n_estimators=100, oob_score=True; ROC: (test=0.663) exactitude: (test=0.919) f1: (test=0.000) précision: (test=0.000) sensibilté: (test=0.000) total time=  40.1s\n"
     ]
    },
    {
     "name": "stderr",
     "output_type": "stream",
     "text": [
      "C:\\Users\\Sdis59\\anaconda3\\lib\\site-packages\\sklearn\\metrics\\_classification.py:1245: UndefinedMetricWarning: Precision is ill-defined and being set to 0.0 due to no predicted samples. Use `zero_division` parameter to control this behavior.\n",
      "  _warn_prf(average, modifier, msg_start, len(result))\n"
     ]
    },
    {
     "name": "stdout",
     "output_type": "stream",
     "text": [
      "[CV 2/5] END bootstrap=True, criterion=gini, max_depth=10, max_features=auto, n_estimators=100, oob_score=True; ROC: (test=0.665) exactitude: (test=0.919) f1: (test=0.000) précision: (test=0.000) sensibilté: (test=0.000) total time=  39.8s\n"
     ]
    },
    {
     "name": "stderr",
     "output_type": "stream",
     "text": [
      "C:\\Users\\Sdis59\\anaconda3\\lib\\site-packages\\sklearn\\metrics\\_classification.py:1245: UndefinedMetricWarning: Precision is ill-defined and being set to 0.0 due to no predicted samples. Use `zero_division` parameter to control this behavior.\n",
      "  _warn_prf(average, modifier, msg_start, len(result))\n"
     ]
    },
    {
     "name": "stdout",
     "output_type": "stream",
     "text": [
      "[CV 3/5] END bootstrap=True, criterion=gini, max_depth=10, max_features=auto, n_estimators=100, oob_score=True; ROC: (test=0.659) exactitude: (test=0.919) f1: (test=0.000) précision: (test=0.000) sensibilté: (test=0.000) total time=  39.6s\n"
     ]
    },
    {
     "name": "stderr",
     "output_type": "stream",
     "text": [
      "C:\\Users\\Sdis59\\anaconda3\\lib\\site-packages\\sklearn\\metrics\\_classification.py:1245: UndefinedMetricWarning: Precision is ill-defined and being set to 0.0 due to no predicted samples. Use `zero_division` parameter to control this behavior.\n",
      "  _warn_prf(average, modifier, msg_start, len(result))\n"
     ]
    },
    {
     "name": "stdout",
     "output_type": "stream",
     "text": [
      "[CV 4/5] END bootstrap=True, criterion=gini, max_depth=10, max_features=auto, n_estimators=100, oob_score=True; ROC: (test=0.657) exactitude: (test=0.919) f1: (test=0.000) précision: (test=0.000) sensibilté: (test=0.000) total time=  39.5s\n"
     ]
    },
    {
     "name": "stderr",
     "output_type": "stream",
     "text": [
      "C:\\Users\\Sdis59\\anaconda3\\lib\\site-packages\\sklearn\\metrics\\_classification.py:1245: UndefinedMetricWarning: Precision is ill-defined and being set to 0.0 due to no predicted samples. Use `zero_division` parameter to control this behavior.\n",
      "  _warn_prf(average, modifier, msg_start, len(result))\n"
     ]
    },
    {
     "name": "stdout",
     "output_type": "stream",
     "text": [
      "[CV 5/5] END bootstrap=True, criterion=gini, max_depth=10, max_features=auto, n_estimators=100, oob_score=True; ROC: (test=0.651) exactitude: (test=0.919) f1: (test=0.000) précision: (test=0.000) sensibilté: (test=0.000) total time=  38.5s\n"
     ]
    },
    {
     "name": "stderr",
     "output_type": "stream",
     "text": [
      "C:\\Users\\Sdis59\\anaconda3\\lib\\site-packages\\sklearn\\metrics\\_classification.py:1245: UndefinedMetricWarning: Precision is ill-defined and being set to 0.0 due to no predicted samples. Use `zero_division` parameter to control this behavior.\n",
      "  _warn_prf(average, modifier, msg_start, len(result))\n"
     ]
    },
    {
     "name": "stdout",
     "output_type": "stream",
     "text": [
      "[CV 1/5] END bootstrap=True, criterion=gini, max_depth=10, max_features=auto, n_estimators=200, oob_score=True; ROC: (test=0.664) exactitude: (test=0.919) f1: (test=0.000) précision: (test=0.000) sensibilté: (test=0.000) total time= 1.3min\n"
     ]
    },
    {
     "name": "stderr",
     "output_type": "stream",
     "text": [
      "C:\\Users\\Sdis59\\anaconda3\\lib\\site-packages\\sklearn\\metrics\\_classification.py:1245: UndefinedMetricWarning: Precision is ill-defined and being set to 0.0 due to no predicted samples. Use `zero_division` parameter to control this behavior.\n",
      "  _warn_prf(average, modifier, msg_start, len(result))\n"
     ]
    },
    {
     "name": "stdout",
     "output_type": "stream",
     "text": [
      "[CV 2/5] END bootstrap=True, criterion=gini, max_depth=10, max_features=auto, n_estimators=200, oob_score=True; ROC: (test=0.666) exactitude: (test=0.919) f1: (test=0.000) précision: (test=0.000) sensibilté: (test=0.000) total time= 1.3min\n"
     ]
    },
    {
     "name": "stderr",
     "output_type": "stream",
     "text": [
      "C:\\Users\\Sdis59\\anaconda3\\lib\\site-packages\\sklearn\\metrics\\_classification.py:1245: UndefinedMetricWarning: Precision is ill-defined and being set to 0.0 due to no predicted samples. Use `zero_division` parameter to control this behavior.\n",
      "  _warn_prf(average, modifier, msg_start, len(result))\n"
     ]
    },
    {
     "name": "stdout",
     "output_type": "stream",
     "text": [
      "[CV 3/5] END bootstrap=True, criterion=gini, max_depth=10, max_features=auto, n_estimators=200, oob_score=True; ROC: (test=0.659) exactitude: (test=0.919) f1: (test=0.000) précision: (test=0.000) sensibilté: (test=0.000) total time=28.5min\n"
     ]
    },
    {
     "name": "stderr",
     "output_type": "stream",
     "text": [
      "C:\\Users\\Sdis59\\anaconda3\\lib\\site-packages\\sklearn\\metrics\\_classification.py:1245: UndefinedMetricWarning: Precision is ill-defined and being set to 0.0 due to no predicted samples. Use `zero_division` parameter to control this behavior.\n",
      "  _warn_prf(average, modifier, msg_start, len(result))\n"
     ]
    },
    {
     "name": "stdout",
     "output_type": "stream",
     "text": [
      "[CV 4/5] END bootstrap=True, criterion=gini, max_depth=10, max_features=auto, n_estimators=200, oob_score=True; ROC: (test=0.659) exactitude: (test=0.919) f1: (test=0.000) précision: (test=0.000) sensibilté: (test=0.000) total time= 2.0min\n"
     ]
    },
    {
     "name": "stderr",
     "output_type": "stream",
     "text": [
      "C:\\Users\\Sdis59\\anaconda3\\lib\\site-packages\\sklearn\\metrics\\_classification.py:1245: UndefinedMetricWarning: Precision is ill-defined and being set to 0.0 due to no predicted samples. Use `zero_division` parameter to control this behavior.\n",
      "  _warn_prf(average, modifier, msg_start, len(result))\n"
     ]
    },
    {
     "name": "stdout",
     "output_type": "stream",
     "text": [
      "[CV 5/5] END bootstrap=True, criterion=gini, max_depth=10, max_features=auto, n_estimators=200, oob_score=True; ROC: (test=0.652) exactitude: (test=0.919) f1: (test=0.000) précision: (test=0.000) sensibilté: (test=0.000) total time= 1.7min\n"
     ]
    },
    {
     "name": "stderr",
     "output_type": "stream",
     "text": [
      "C:\\Users\\Sdis59\\anaconda3\\lib\\site-packages\\sklearn\\metrics\\_classification.py:1245: UndefinedMetricWarning: Precision is ill-defined and being set to 0.0 due to no predicted samples. Use `zero_division` parameter to control this behavior.\n",
      "  _warn_prf(average, modifier, msg_start, len(result))\n"
     ]
    },
    {
     "name": "stdout",
     "output_type": "stream",
     "text": [
      "[CV 1/5] END bootstrap=True, criterion=gini, max_depth=10, max_features=auto, n_estimators=300, oob_score=True; ROC: (test=0.664) exactitude: (test=0.919) f1: (test=0.000) précision: (test=0.000) sensibilté: (test=0.000) total time= 1.8min\n"
     ]
    },
    {
     "name": "stderr",
     "output_type": "stream",
     "text": [
      "C:\\Users\\Sdis59\\anaconda3\\lib\\site-packages\\sklearn\\metrics\\_classification.py:1245: UndefinedMetricWarning: Precision is ill-defined and being set to 0.0 due to no predicted samples. Use `zero_division` parameter to control this behavior.\n",
      "  _warn_prf(average, modifier, msg_start, len(result))\n"
     ]
    },
    {
     "name": "stdout",
     "output_type": "stream",
     "text": [
      "[CV 2/5] END bootstrap=True, criterion=gini, max_depth=10, max_features=auto, n_estimators=300, oob_score=True; ROC: (test=0.667) exactitude: (test=0.919) f1: (test=0.000) précision: (test=0.000) sensibilté: (test=0.000) total time= 1.9min\n"
     ]
    },
    {
     "name": "stderr",
     "output_type": "stream",
     "text": [
      "C:\\Users\\Sdis59\\anaconda3\\lib\\site-packages\\sklearn\\metrics\\_classification.py:1245: UndefinedMetricWarning: Precision is ill-defined and being set to 0.0 due to no predicted samples. Use `zero_division` parameter to control this behavior.\n",
      "  _warn_prf(average, modifier, msg_start, len(result))\n"
     ]
    },
    {
     "name": "stdout",
     "output_type": "stream",
     "text": [
      "[CV 3/5] END bootstrap=True, criterion=gini, max_depth=10, max_features=auto, n_estimators=300, oob_score=True; ROC: (test=0.660) exactitude: (test=0.919) f1: (test=0.000) précision: (test=0.000) sensibilté: (test=0.000) total time= 2.7min\n"
     ]
    },
    {
     "name": "stderr",
     "output_type": "stream",
     "text": [
      "C:\\Users\\Sdis59\\anaconda3\\lib\\site-packages\\sklearn\\metrics\\_classification.py:1245: UndefinedMetricWarning: Precision is ill-defined and being set to 0.0 due to no predicted samples. Use `zero_division` parameter to control this behavior.\n",
      "  _warn_prf(average, modifier, msg_start, len(result))\n"
     ]
    },
    {
     "name": "stdout",
     "output_type": "stream",
     "text": [
      "[CV 4/5] END bootstrap=True, criterion=gini, max_depth=10, max_features=auto, n_estimators=300, oob_score=True; ROC: (test=0.660) exactitude: (test=0.919) f1: (test=0.000) précision: (test=0.000) sensibilté: (test=0.000) total time= 3.0min\n"
     ]
    },
    {
     "name": "stderr",
     "output_type": "stream",
     "text": [
      "C:\\Users\\Sdis59\\anaconda3\\lib\\site-packages\\sklearn\\metrics\\_classification.py:1245: UndefinedMetricWarning: Precision is ill-defined and being set to 0.0 due to no predicted samples. Use `zero_division` parameter to control this behavior.\n",
      "  _warn_prf(average, modifier, msg_start, len(result))\n"
     ]
    },
    {
     "name": "stdout",
     "output_type": "stream",
     "text": [
      "[CV 5/5] END bootstrap=True, criterion=gini, max_depth=10, max_features=auto, n_estimators=300, oob_score=True; ROC: (test=0.653) exactitude: (test=0.919) f1: (test=0.000) précision: (test=0.000) sensibilté: (test=0.000) total time= 3.0min\n",
      "Meilleure précision :  0.6606382215647553\n",
      "Meilleurs paramètres : {'bootstrap': True, 'criterion': 'gini', 'max_depth': 10, 'max_features': 'auto', 'n_estimators': 300, 'oob_score': True}\n"
     ]
    }
   ],
   "source": [
    "import numpy as np\n",
    "\n",
    "classificateur_forêt = RandomForestClassifier(random_state = 500)\n",
    "\n",
    "les_paramètres_forêt = {'n_estimators':[100,\n",
    "                                        200,\n",
    "                                        300],\n",
    "                        'max_features': ['auto'],\n",
    "                        'max_depth' : [1,\n",
    "                                       5,\n",
    "                                       10],\n",
    "                        'criterion' : ['gini'],\n",
    "                        'bootstrap' : [True],\n",
    "                        'oob_score' : [True]}\n",
    "\n",
    "classificateur_forêt, prédictions_forêt = teste_modèle(X_entrainement, \n",
    "                                                       X_test,\n",
    "                                                       y_entrainement,\n",
    "                                                       y_test,\n",
    "                                                       classificateur_forêt, \n",
    "                                                       les_paramètres_forêt,\n",
    "                                                       5,\n",
    "                                                       cotation)\n",
    "print('Meilleure précision : ',\n",
    "      classificateur_forêt.best_score_)\n",
    "print('Meilleurs paramètres :',\n",
    "      classificateur_forêt.best_params_)                                                         "
   ]
  },
  {
   "cell_type": "code",
   "execution_count": 21,
   "metadata": {},
   "outputs": [],
   "source": [
    "modèle_forêt_retenu = RandomForestClassifier(random_state = 500,\n",
    "                                             bootstrap = True,\n",
    "                                             criterion = 'gini',\n",
    "                                             max_depth = 10,\n",
    "                                             max_features = 'auto',\n",
    "                                             n_estimators = 300,\n",
    "                                             oob_score = True)\n",
    "\n",
    "le_modèle_forêt_retenu_ajusté = modèle_forêt_retenu.fit(X_entrainement,\n",
    "                                                        y_entrainement)\n",
    "les_valeurs_prédites_modèle_forêt_retenu = le_modèle_forêt_retenu_ajusté.predict(X_test)        \n",
    "\n",
    "df_résultats_forêt = pd.DataFrame(columns = {'prédits',\n",
    "                                             'réels'})\n",
    "df_résultats_forêt['prédits'] = le_modèle_forêt_retenu_ajusté.predict(X_test) \n",
    "df_résultats_forêt['réels'] = np.array(y_test)"
   ]
  },
  {
   "cell_type": "code",
   "execution_count": 51,
   "metadata": {},
   "outputs": [
    {
     "data": {
      "image/png": "[encoded data removed]",
      "text/plain": [
       "<Figure size 360x360 with 1 Axes>"
      ]
     },
     "metadata": {
      "needs_background": "light"
     },
     "output_type": "display_data"
    },
    {
     "name": "stdout",
     "output_type": "stream",
     "text": [
      "              precision    recall  f1-score   support\n",
      "\n",
      "           0       1.00      0.92      0.96     92253\n",
      "           1       0.00      0.00      0.00         0\n",
      "\n",
      "    accuracy                           0.92     92253\n",
      "   macro avg       0.50      0.46      0.48     92253\n",
      "weighted avg       1.00      0.92      0.96     92253\n",
      "\n"
     ]
    },
    {
     "name": "stderr",
     "output_type": "stream",
     "text": [
      "C:\\Users\\Sdis59\\anaconda3\\lib\\site-packages\\sklearn\\metrics\\_classification.py:1245: UndefinedMetricWarning: Recall and F-score are ill-defined and being set to 0.0 in labels with no true samples. Use `zero_division` parameter to control this behavior.\n",
      "  _warn_prf(average, modifier, msg_start, len(result))\n",
      "C:\\Users\\Sdis59\\anaconda3\\lib\\site-packages\\sklearn\\metrics\\_classification.py:1245: UndefinedMetricWarning: Recall and F-score are ill-defined and being set to 0.0 in labels with no true samples. Use `zero_division` parameter to control this behavior.\n",
      "  _warn_prf(average, modifier, msg_start, len(result))\n",
      "C:\\Users\\Sdis59\\anaconda3\\lib\\site-packages\\sklearn\\metrics\\_classification.py:1245: UndefinedMetricWarning: Recall and F-score are ill-defined and being set to 0.0 in labels with no true samples. Use `zero_division` parameter to control this behavior.\n",
      "  _warn_prf(average, modifier, msg_start, len(result))\n"
     ]
    }
   ],
   "source": [
    "matrice_de_confusion_forêt = metrics.confusion_matrix(np.array(y_test), \n",
    "                                                      les_valeurs_prédites_modèle_forêt_retenu)\n",
    "                                                      \n",
    "les_textes = np.array((['Vrais négatifs\\n' + str(matrice_de_confusion_forêt[0][0]),\n",
    "                       'Faux négatifss\\n' + str(matrice_de_confusion_forêt[0][1])],\n",
    "                       ['Faux positifss\\n' + str(matrice_de_confusion_forêt[1][0]),\n",
    "                        'Vrais positifs\\n' + str(matrice_de_confusion_forêt[1][1])]),\n",
    "                       dtype = 'object')\n",
    "\n",
    "plt.figure(figsize = (5,\n",
    "                      5))\n",
    "sns.heatmap(matrice_de_confusion_forêt,\n",
    "            cmap = 'icefire',\n",
    "            annot = les_textes,\n",
    "            fmt = '',\n",
    "            cbar = False,\n",
    "            linewidths = .5)\n",
    "plt.xlabel('Réels')\n",
    "plt.ylabel('Prédits')\n",
    "plt.title('Matrice de confusion du modèle forêts aléatoires',\n",
    "          fontsize = 12,\n",
    "          fontweight = 'bold')\n",
    "plt.show()\n",
    "\n",
    "print(metrics.classification_report(les_valeurs_prédites_modèle_forêt_retenu,\n",
    "                                    np.array(y_test)))"
   ]
  },
  {
   "cell_type": "code",
   "execution_count": 52,
   "metadata": {},
   "outputs": [
    {
     "data": {
      "image/png": "[encoded data removed]",
      "text/plain": [
       "<Figure size 432x288 with 1 Axes>"
      ]
     },
     "metadata": {
      "needs_background": "light"
     },
     "output_type": "display_data"
    },
    {
     "name": "stdout",
     "output_type": "stream",
     "text": [
      "AUC du modèle forêts aléatoires : 0.65\n"
     ]
    }
   ],
   "source": [
    "auc_forêt, FP_forêt, TP_forêt, seuil_forêt = trace_ROC(le_modèle_forêt_retenu_ajusté,\n",
    "                      'modèle forêts aléatoires')"
   ]
  },
  {
   "cell_type": "markdown",
   "metadata": {},
   "source": [
    "On traite le XGBoost\n",
    "\n"
   ]
  },
  {
   "cell_type": "code",
   "execution_count": 24,
   "metadata": {},
   "outputs": [
    {
     "name": "stdout",
     "output_type": "stream",
     "text": [
      "Fitting 5 folds for each of 12 candidates, totalling 60 fits\n",
      "[07:50:22] WARNING: C:/Users/Administrator/workspace/xgboost-win64_release_1.4.0/src/learner.cc:1095: Starting in XGBoost 1.3.0, the default evaluation metric used with the objective 'binary:logistic' was changed from 'error' to 'logloss'. Explicitly set eval_metric if you'd like to restore the old behavior.\n"
     ]
    },
    {
     "name": "stderr",
     "output_type": "stream",
     "text": [
      "C:\\Users\\Sdis59\\anaconda3\\lib\\site-packages\\sklearn\\metrics\\_classification.py:1245: UndefinedMetricWarning: Precision is ill-defined and being set to 0.0 due to no predicted samples. Use `zero_division` parameter to control this behavior.\n",
      "  _warn_prf(average, modifier, msg_start, len(result))\n"
     ]
    },
    {
     "name": "stdout",
     "output_type": "stream",
     "text": [
      "[CV 1/5] END learning_rate=0.1, max_depth=1, n_estimators=100, use_label_encoder=False; ROC: (test=0.660) exactitude: (test=0.919) f1: (test=0.000) précision: (test=0.000) sensibilté: (test=0.000) total time=   6.3s\n",
      "[07:50:28] WARNING: C:/Users/Administrator/workspace/xgboost-win64_release_1.4.0/src/learner.cc:1095: Starting in XGBoost 1.3.0, the default evaluation metric used with the objective 'binary:logistic' was changed from 'error' to 'logloss'. Explicitly set eval_metric if you'd like to restore the old behavior.\n"
     ]
    },
    {
     "name": "stderr",
     "output_type": "stream",
     "text": [
      "C:\\Users\\Sdis59\\anaconda3\\lib\\site-packages\\sklearn\\metrics\\_classification.py:1245: UndefinedMetricWarning: Precision is ill-defined and being set to 0.0 due to no predicted samples. Use `zero_division` parameter to control this behavior.\n",
      "  _warn_prf(average, modifier, msg_start, len(result))\n"
     ]
    },
    {
     "name": "stdout",
     "output_type": "stream",
     "text": [
      "[CV 2/5] END learning_rate=0.1, max_depth=1, n_estimators=100, use_label_encoder=False; ROC: (test=0.659) exactitude: (test=0.919) f1: (test=0.000) précision: (test=0.000) sensibilté: (test=0.000) total time=   6.1s\n",
      "[07:50:34] WARNING: C:/Users/Administrator/workspace/xgboost-win64_release_1.4.0/src/learner.cc:1095: Starting in XGBoost 1.3.0, the default evaluation metric used with the objective 'binary:logistic' was changed from 'error' to 'logloss'. Explicitly set eval_metric if you'd like to restore the old behavior.\n"
     ]
    },
    {
     "name": "stderr",
     "output_type": "stream",
     "text": [
      "C:\\Users\\Sdis59\\anaconda3\\lib\\site-packages\\sklearn\\metrics\\_classification.py:1245: UndefinedMetricWarning: Precision is ill-defined and being set to 0.0 due to no predicted samples. Use `zero_division` parameter to control this behavior.\n",
      "  _warn_prf(average, modifier, msg_start, len(result))\n"
     ]
    },
    {
     "name": "stdout",
     "output_type": "stream",
     "text": [
      "[CV 3/5] END learning_rate=0.1, max_depth=1, n_estimators=100, use_label_encoder=False; ROC: (test=0.658) exactitude: (test=0.919) f1: (test=0.000) précision: (test=0.000) sensibilté: (test=0.000) total time=   7.6s\n",
      "[07:50:42] WARNING: C:/Users/Administrator/workspace/xgboost-win64_release_1.4.0/src/learner.cc:1095: Starting in XGBoost 1.3.0, the default evaluation metric used with the objective 'binary:logistic' was changed from 'error' to 'logloss'. Explicitly set eval_metric if you'd like to restore the old behavior.\n"
     ]
    },
    {
     "name": "stderr",
     "output_type": "stream",
     "text": [
      "C:\\Users\\Sdis59\\anaconda3\\lib\\site-packages\\sklearn\\metrics\\_classification.py:1245: UndefinedMetricWarning: Precision is ill-defined and being set to 0.0 due to no predicted samples. Use `zero_division` parameter to control this behavior.\n",
      "  _warn_prf(average, modifier, msg_start, len(result))\n"
     ]
    },
    {
     "name": "stdout",
     "output_type": "stream",
     "text": [
      "[CV 4/5] END learning_rate=0.1, max_depth=1, n_estimators=100, use_label_encoder=False; ROC: (test=0.656) exactitude: (test=0.919) f1: (test=0.000) précision: (test=0.000) sensibilté: (test=0.000) total time=   7.5s\n",
      "[07:50:50] WARNING: C:/Users/Administrator/workspace/xgboost-win64_release_1.4.0/src/learner.cc:1095: Starting in XGBoost 1.3.0, the default evaluation metric used with the objective 'binary:logistic' was changed from 'error' to 'logloss'. Explicitly set eval_metric if you'd like to restore the old behavior.\n"
     ]
    },
    {
     "name": "stderr",
     "output_type": "stream",
     "text": [
      "C:\\Users\\Sdis59\\anaconda3\\lib\\site-packages\\sklearn\\metrics\\_classification.py:1245: UndefinedMetricWarning: Precision is ill-defined and being set to 0.0 due to no predicted samples. Use `zero_division` parameter to control this behavior.\n",
      "  _warn_prf(average, modifier, msg_start, len(result))\n"
     ]
    },
    {
     "name": "stdout",
     "output_type": "stream",
     "text": [
      "[CV 5/5] END learning_rate=0.1, max_depth=1, n_estimators=100, use_label_encoder=False; ROC: (test=0.650) exactitude: (test=0.919) f1: (test=0.000) précision: (test=0.000) sensibilté: (test=0.000) total time=   6.5s\n",
      "[07:50:56] WARNING: C:/Users/Administrator/workspace/xgboost-win64_release_1.4.0/src/learner.cc:1095: Starting in XGBoost 1.3.0, the default evaluation metric used with the objective 'binary:logistic' was changed from 'error' to 'logloss'. Explicitly set eval_metric if you'd like to restore the old behavior.\n"
     ]
    },
    {
     "name": "stderr",
     "output_type": "stream",
     "text": [
      "C:\\Users\\Sdis59\\anaconda3\\lib\\site-packages\\sklearn\\metrics\\_classification.py:1245: UndefinedMetricWarning: Precision is ill-defined and being set to 0.0 due to no predicted samples. Use `zero_division` parameter to control this behavior.\n",
      "  _warn_prf(average, modifier, msg_start, len(result))\n"
     ]
    },
    {
     "name": "stdout",
     "output_type": "stream",
     "text": [
      "[CV 1/5] END learning_rate=0.1, max_depth=1, n_estimators=200, use_label_encoder=False; ROC: (test=0.668) exactitude: (test=0.919) f1: (test=0.000) précision: (test=0.000) sensibilté: (test=0.000) total time=  12.2s\n",
      "[07:51:09] WARNING: C:/Users/Administrator/workspace/xgboost-win64_release_1.4.0/src/learner.cc:1095: Starting in XGBoost 1.3.0, the default evaluation metric used with the objective 'binary:logistic' was changed from 'error' to 'logloss'. Explicitly set eval_metric if you'd like to restore the old behavior.\n"
     ]
    },
    {
     "name": "stderr",
     "output_type": "stream",
     "text": [
      "C:\\Users\\Sdis59\\anaconda3\\lib\\site-packages\\sklearn\\metrics\\_classification.py:1245: UndefinedMetricWarning: Precision is ill-defined and being set to 0.0 due to no predicted samples. Use `zero_division` parameter to control this behavior.\n",
      "  _warn_prf(average, modifier, msg_start, len(result))\n"
     ]
    },
    {
     "name": "stdout",
     "output_type": "stream",
     "text": [
      "[CV 2/5] END learning_rate=0.1, max_depth=1, n_estimators=200, use_label_encoder=False; ROC: (test=0.668) exactitude: (test=0.919) f1: (test=0.000) précision: (test=0.000) sensibilté: (test=0.000) total time=  13.2s\n",
      "[07:51:22] WARNING: C:/Users/Administrator/workspace/xgboost-win64_release_1.4.0/src/learner.cc:1095: Starting in XGBoost 1.3.0, the default evaluation metric used with the objective 'binary:logistic' was changed from 'error' to 'logloss'. Explicitly set eval_metric if you'd like to restore the old behavior.\n"
     ]
    },
    {
     "name": "stderr",
     "output_type": "stream",
     "text": [
      "C:\\Users\\Sdis59\\anaconda3\\lib\\site-packages\\sklearn\\metrics\\_classification.py:1245: UndefinedMetricWarning: Precision is ill-defined and being set to 0.0 due to no predicted samples. Use `zero_division` parameter to control this behavior.\n",
      "  _warn_prf(average, modifier, msg_start, len(result))\n"
     ]
    },
    {
     "name": "stdout",
     "output_type": "stream",
     "text": [
      "[CV 3/5] END learning_rate=0.1, max_depth=1, n_estimators=200, use_label_encoder=False; ROC: (test=0.666) exactitude: (test=0.919) f1: (test=0.000) précision: (test=0.000) sensibilté: (test=0.000) total time=  13.8s\n",
      "[07:51:36] WARNING: C:/Users/Administrator/workspace/xgboost-win64_release_1.4.0/src/learner.cc:1095: Starting in XGBoost 1.3.0, the default evaluation metric used with the objective 'binary:logistic' was changed from 'error' to 'logloss'. Explicitly set eval_metric if you'd like to restore the old behavior.\n"
     ]
    },
    {
     "name": "stderr",
     "output_type": "stream",
     "text": [
      "C:\\Users\\Sdis59\\anaconda3\\lib\\site-packages\\sklearn\\metrics\\_classification.py:1245: UndefinedMetricWarning: Precision is ill-defined and being set to 0.0 due to no predicted samples. Use `zero_division` parameter to control this behavior.\n",
      "  _warn_prf(average, modifier, msg_start, len(result))\n"
     ]
    },
    {
     "name": "stdout",
     "output_type": "stream",
     "text": [
      "[CV 4/5] END learning_rate=0.1, max_depth=1, n_estimators=200, use_label_encoder=False; ROC: (test=0.666) exactitude: (test=0.919) f1: (test=0.000) précision: (test=0.000) sensibilté: (test=0.000) total time=  14.8s\n",
      "[07:51:51] WARNING: C:/Users/Administrator/workspace/xgboost-win64_release_1.4.0/src/learner.cc:1095: Starting in XGBoost 1.3.0, the default evaluation metric used with the objective 'binary:logistic' was changed from 'error' to 'logloss'. Explicitly set eval_metric if you'd like to restore the old behavior.\n"
     ]
    },
    {
     "name": "stderr",
     "output_type": "stream",
     "text": [
      "C:\\Users\\Sdis59\\anaconda3\\lib\\site-packages\\sklearn\\metrics\\_classification.py:1245: UndefinedMetricWarning: Precision is ill-defined and being set to 0.0 due to no predicted samples. Use `zero_division` parameter to control this behavior.\n",
      "  _warn_prf(average, modifier, msg_start, len(result))\n"
     ]
    },
    {
     "name": "stdout",
     "output_type": "stream",
     "text": [
      "[CV 5/5] END learning_rate=0.1, max_depth=1, n_estimators=200, use_label_encoder=False; ROC: (test=0.659) exactitude: (test=0.919) f1: (test=0.000) précision: (test=0.000) sensibilté: (test=0.000) total time=  15.7s\n",
      "[07:52:07] WARNING: C:/Users/Administrator/workspace/xgboost-win64_release_1.4.0/src/learner.cc:1095: Starting in XGBoost 1.3.0, the default evaluation metric used with the objective 'binary:logistic' was changed from 'error' to 'logloss'. Explicitly set eval_metric if you'd like to restore the old behavior.\n"
     ]
    },
    {
     "name": "stderr",
     "output_type": "stream",
     "text": [
      "C:\\Users\\Sdis59\\anaconda3\\lib\\site-packages\\sklearn\\metrics\\_classification.py:1245: UndefinedMetricWarning: Precision is ill-defined and being set to 0.0 due to no predicted samples. Use `zero_division` parameter to control this behavior.\n",
      "  _warn_prf(average, modifier, msg_start, len(result))\n"
     ]
    },
    {
     "name": "stdout",
     "output_type": "stream",
     "text": [
      "[CV 1/5] END learning_rate=0.1, max_depth=5, n_estimators=100, use_label_encoder=False; ROC: (test=0.677) exactitude: (test=0.919) f1: (test=0.000) précision: (test=0.000) sensibilté: (test=0.000) total time=  29.8s\n",
      "[07:52:37] WARNING: C:/Users/Administrator/workspace/xgboost-win64_release_1.4.0/src/learner.cc:1095: Starting in XGBoost 1.3.0, the default evaluation metric used with the objective 'binary:logistic' was changed from 'error' to 'logloss'. Explicitly set eval_metric if you'd like to restore the old behavior.\n"
     ]
    },
    {
     "name": "stderr",
     "output_type": "stream",
     "text": [
      "C:\\Users\\Sdis59\\anaconda3\\lib\\site-packages\\sklearn\\metrics\\_classification.py:1245: UndefinedMetricWarning: Precision is ill-defined and being set to 0.0 due to no predicted samples. Use `zero_division` parameter to control this behavior.\n",
      "  _warn_prf(average, modifier, msg_start, len(result))\n"
     ]
    },
    {
     "name": "stdout",
     "output_type": "stream",
     "text": [
      "[CV 2/5] END learning_rate=0.1, max_depth=5, n_estimators=100, use_label_encoder=False; ROC: (test=0.679) exactitude: (test=0.919) f1: (test=0.000) précision: (test=0.000) sensibilté: (test=0.000) total time=  25.8s\n",
      "[07:53:03] WARNING: C:/Users/Administrator/workspace/xgboost-win64_release_1.4.0/src/learner.cc:1095: Starting in XGBoost 1.3.0, the default evaluation metric used with the objective 'binary:logistic' was changed from 'error' to 'logloss'. Explicitly set eval_metric if you'd like to restore the old behavior.\n"
     ]
    },
    {
     "name": "stderr",
     "output_type": "stream",
     "text": [
      "C:\\Users\\Sdis59\\anaconda3\\lib\\site-packages\\sklearn\\metrics\\_classification.py:1245: UndefinedMetricWarning: Precision is ill-defined and being set to 0.0 due to no predicted samples. Use `zero_division` parameter to control this behavior.\n",
      "  _warn_prf(average, modifier, msg_start, len(result))\n"
     ]
    },
    {
     "name": "stdout",
     "output_type": "stream",
     "text": [
      "[CV 3/5] END learning_rate=0.1, max_depth=5, n_estimators=100, use_label_encoder=False; ROC: (test=0.677) exactitude: (test=0.919) f1: (test=0.000) précision: (test=0.000) sensibilté: (test=0.000) total time=  24.8s\n",
      "[07:53:28] WARNING: C:/Users/Administrator/workspace/xgboost-win64_release_1.4.0/src/learner.cc:1095: Starting in XGBoost 1.3.0, the default evaluation metric used with the objective 'binary:logistic' was changed from 'error' to 'logloss'. Explicitly set eval_metric if you'd like to restore the old behavior.\n"
     ]
    },
    {
     "name": "stderr",
     "output_type": "stream",
     "text": [
      "C:\\Users\\Sdis59\\anaconda3\\lib\\site-packages\\sklearn\\metrics\\_classification.py:1245: UndefinedMetricWarning: Precision is ill-defined and being set to 0.0 due to no predicted samples. Use `zero_division` parameter to control this behavior.\n",
      "  _warn_prf(average, modifier, msg_start, len(result))\n"
     ]
    },
    {
     "name": "stdout",
     "output_type": "stream",
     "text": [
      "[CV 4/5] END learning_rate=0.1, max_depth=5, n_estimators=100, use_label_encoder=False; ROC: (test=0.678) exactitude: (test=0.919) f1: (test=0.000) précision: (test=0.000) sensibilté: (test=0.000) total time=  28.7s\n",
      "[07:53:57] WARNING: C:/Users/Administrator/workspace/xgboost-win64_release_1.4.0/src/learner.cc:1095: Starting in XGBoost 1.3.0, the default evaluation metric used with the objective 'binary:logistic' was changed from 'error' to 'logloss'. Explicitly set eval_metric if you'd like to restore the old behavior.\n"
     ]
    },
    {
     "name": "stderr",
     "output_type": "stream",
     "text": [
      "C:\\Users\\Sdis59\\anaconda3\\lib\\site-packages\\sklearn\\metrics\\_classification.py:1245: UndefinedMetricWarning: Precision is ill-defined and being set to 0.0 due to no predicted samples. Use `zero_division` parameter to control this behavior.\n",
      "  _warn_prf(average, modifier, msg_start, len(result))\n"
     ]
    },
    {
     "name": "stdout",
     "output_type": "stream",
     "text": [
      "[CV 5/5] END learning_rate=0.1, max_depth=5, n_estimators=100, use_label_encoder=False; ROC: (test=0.671) exactitude: (test=0.919) f1: (test=0.000) précision: (test=0.000) sensibilté: (test=0.000) total time=  24.3s\n",
      "[07:54:21] WARNING: C:/Users/Administrator/workspace/xgboost-win64_release_1.4.0/src/learner.cc:1095: Starting in XGBoost 1.3.0, the default evaluation metric used with the objective 'binary:logistic' was changed from 'error' to 'logloss'. Explicitly set eval_metric if you'd like to restore the old behavior.\n",
      "[CV 1/5] END learning_rate=0.1, max_depth=5, n_estimators=200, use_label_encoder=False; ROC: (test=0.678) exactitude: (test=0.919) f1: (test=0.000) précision: (test=0.000) sensibilté: (test=0.000) total time=  54.6s\n",
      "[07:55:16] WARNING: C:/Users/Administrator/workspace/xgboost-win64_release_1.4.0/src/learner.cc:1095: Starting in XGBoost 1.3.0, the default evaluation metric used with the objective 'binary:logistic' was changed from 'error' to 'logloss'. Explicitly set eval_metric if you'd like to restore the old behavior.\n",
      "[CV 2/5] END learning_rate=0.1, max_depth=5, n_estimators=200, use_label_encoder=False; ROC: (test=0.681) exactitude: (test=0.919) f1: (test=0.000) précision: (test=0.000) sensibilté: (test=0.000) total time=  48.8s\n",
      "[07:56:05] WARNING: C:/Users/Administrator/workspace/xgboost-win64_release_1.4.0/src/learner.cc:1095: Starting in XGBoost 1.3.0, the default evaluation metric used with the objective 'binary:logistic' was changed from 'error' to 'logloss'. Explicitly set eval_metric if you'd like to restore the old behavior.\n",
      "[CV 3/5] END learning_rate=0.1, max_depth=5, n_estimators=200, use_label_encoder=False; ROC: (test=0.679) exactitude: (test=0.919) f1: (test=0.001) précision: (test=1.000) sensibilté: (test=0.000) total time=  50.5s\n",
      "[07:56:55] WARNING: C:/Users/Administrator/workspace/xgboost-win64_release_1.4.0/src/learner.cc:1095: Starting in XGBoost 1.3.0, the default evaluation metric used with the objective 'binary:logistic' was changed from 'error' to 'logloss'. Explicitly set eval_metric if you'd like to restore the old behavior.\n",
      "[CV 4/5] END learning_rate=0.1, max_depth=5, n_estimators=200, use_label_encoder=False; ROC: (test=0.681) exactitude: (test=0.919) f1: (test=0.000) précision: (test=0.000) sensibilté: (test=0.000) total time=  51.9s\n",
      "[07:57:47] WARNING: C:/Users/Administrator/workspace/xgboost-win64_release_1.4.0/src/learner.cc:1095: Starting in XGBoost 1.3.0, the default evaluation metric used with the objective 'binary:logistic' was changed from 'error' to 'logloss'. Explicitly set eval_metric if you'd like to restore the old behavior.\n",
      "[CV 5/5] END learning_rate=0.1, max_depth=5, n_estimators=200, use_label_encoder=False; ROC: (test=0.674) exactitude: (test=0.919) f1: (test=0.001) précision: (test=1.000) sensibilté: (test=0.000) total time=  52.3s\n",
      "[07:58:40] WARNING: C:/Users/Administrator/workspace/xgboost-win64_release_1.4.0/src/learner.cc:1095: Starting in XGBoost 1.3.0, the default evaluation metric used with the objective 'binary:logistic' was changed from 'error' to 'logloss'. Explicitly set eval_metric if you'd like to restore the old behavior.\n",
      "[CV 1/5] END learning_rate=0.1, max_depth=10, n_estimators=100, use_label_encoder=False; ROC: (test=0.667) exactitude: (test=0.919) f1: (test=0.002) précision: (test=0.500) sensibilté: (test=0.001) total time=  53.2s\n",
      "[07:59:34] WARNING: C:/Users/Administrator/workspace/xgboost-win64_release_1.4.0/src/learner.cc:1095: Starting in XGBoost 1.3.0, the default evaluation metric used with the objective 'binary:logistic' was changed from 'error' to 'logloss'. Explicitly set eval_metric if you'd like to restore the old behavior.\n",
      "[CV 2/5] END learning_rate=0.1, max_depth=10, n_estimators=100, use_label_encoder=False; ROC: (test=0.672) exactitude: (test=0.919) f1: (test=0.002) précision: (test=0.444) sensibilté: (test=0.001) total time=  55.4s\n",
      "[08:00:29] WARNING: C:/Users/Administrator/workspace/xgboost-win64_release_1.4.0/src/learner.cc:1095: Starting in XGBoost 1.3.0, the default evaluation metric used with the objective 'binary:logistic' was changed from 'error' to 'logloss'. Explicitly set eval_metric if you'd like to restore the old behavior.\n",
      "[CV 3/5] END learning_rate=0.1, max_depth=10, n_estimators=100, use_label_encoder=False; ROC: (test=0.666) exactitude: (test=0.919) f1: (test=0.001) précision: (test=0.143) sensibilté: (test=0.000) total time=  53.8s\n",
      "[08:01:23] WARNING: C:/Users/Administrator/workspace/xgboost-win64_release_1.4.0/src/learner.cc:1095: Starting in XGBoost 1.3.0, the default evaluation metric used with the objective 'binary:logistic' was changed from 'error' to 'logloss'. Explicitly set eval_metric if you'd like to restore the old behavior.\n",
      "[CV 4/5] END learning_rate=0.1, max_depth=10, n_estimators=100, use_label_encoder=False; ROC: (test=0.666) exactitude: (test=0.919) f1: (test=0.003) précision: (test=0.714) sensibilté: (test=0.001) total time=  50.8s\n",
      "[08:02:14] WARNING: C:/Users/Administrator/workspace/xgboost-win64_release_1.4.0/src/learner.cc:1095: Starting in XGBoost 1.3.0, the default evaluation metric used with the objective 'binary:logistic' was changed from 'error' to 'logloss'. Explicitly set eval_metric if you'd like to restore the old behavior.\n",
      "[CV 5/5] END learning_rate=0.1, max_depth=10, n_estimators=100, use_label_encoder=False; ROC: (test=0.665) exactitude: (test=0.919) f1: (test=0.001) précision: (test=0.250) sensibilté: (test=0.001) total time=  53.8s\n",
      "[08:03:08] WARNING: C:/Users/Administrator/workspace/xgboost-win64_release_1.4.0/src/learner.cc:1095: Starting in XGBoost 1.3.0, the default evaluation metric used with the objective 'binary:logistic' was changed from 'error' to 'logloss'. Explicitly set eval_metric if you'd like to restore the old behavior.\n",
      "[CV 1/5] END learning_rate=0.1, max_depth=10, n_estimators=200, use_label_encoder=False; ROC: (test=0.665) exactitude: (test=0.919) f1: (test=0.001) précision: (test=0.125) sensibilté: (test=0.001) total time=14.3min\n",
      "[08:17:25] WARNING: C:/Users/Administrator/workspace/xgboost-win64_release_1.4.0/src/learner.cc:1095: Starting in XGBoost 1.3.0, the default evaluation metric used with the objective 'binary:logistic' was changed from 'error' to 'logloss'. Explicitly set eval_metric if you'd like to restore the old behavior.\n",
      "[CV 2/5] END learning_rate=0.1, max_depth=10, n_estimators=200, use_label_encoder=False; ROC: (test=0.669) exactitude: (test=0.919) f1: (test=0.003) précision: (test=0.375) sensibilté: (test=0.002) total time= 1.3min\n",
      "[08:18:46] WARNING: C:/Users/Administrator/workspace/xgboost-win64_release_1.4.0/src/learner.cc:1095: Starting in XGBoost 1.3.0, the default evaluation metric used with the objective 'binary:logistic' was changed from 'error' to 'logloss'. Explicitly set eval_metric if you'd like to restore the old behavior.\n",
      "[CV 3/5] END learning_rate=0.1, max_depth=10, n_estimators=200, use_label_encoder=False; ROC: (test=0.663) exactitude: (test=0.919) f1: (test=0.003) précision: (test=0.294) sensibilté: (test=0.001) total time= 2.0min\n",
      "[08:20:49] WARNING: C:/Users/Administrator/workspace/xgboost-win64_release_1.4.0/src/learner.cc:1095: Starting in XGBoost 1.3.0, the default evaluation metric used with the objective 'binary:logistic' was changed from 'error' to 'logloss'. Explicitly set eval_metric if you'd like to restore the old behavior.\n",
      "[CV 4/5] END learning_rate=0.1, max_depth=10, n_estimators=200, use_label_encoder=False; ROC: (test=0.662) exactitude: (test=0.919) f1: (test=0.003) précision: (test=0.625) sensibilté: (test=0.001) total time= 1.5min\n",
      "[08:22:18] WARNING: C:/Users/Administrator/workspace/xgboost-win64_release_1.4.0/src/learner.cc:1095: Starting in XGBoost 1.3.0, the default evaluation metric used with the objective 'binary:logistic' was changed from 'error' to 'logloss'. Explicitly set eval_metric if you'd like to restore the old behavior.\n",
      "[CV 5/5] END learning_rate=0.1, max_depth=10, n_estimators=200, use_label_encoder=False; ROC: (test=0.665) exactitude: (test=0.919) f1: (test=0.003) précision: (test=0.417) sensibilté: (test=0.001) total time= 1.8min\n",
      "[08:24:03] WARNING: C:/Users/Administrator/workspace/xgboost-win64_release_1.4.0/src/learner.cc:1095: Starting in XGBoost 1.3.0, the default evaluation metric used with the objective 'binary:logistic' was changed from 'error' to 'logloss'. Explicitly set eval_metric if you'd like to restore the old behavior.\n"
     ]
    },
    {
     "name": "stderr",
     "output_type": "stream",
     "text": [
      "C:\\Users\\Sdis59\\anaconda3\\lib\\site-packages\\sklearn\\metrics\\_classification.py:1245: UndefinedMetricWarning: Precision is ill-defined and being set to 0.0 due to no predicted samples. Use `zero_division` parameter to control this behavior.\n",
      "  _warn_prf(average, modifier, msg_start, len(result))\n"
     ]
    },
    {
     "name": "stdout",
     "output_type": "stream",
     "text": [
      "[CV 1/5] END learning_rate=0.01, max_depth=1, n_estimators=100, use_label_encoder=False; ROC: (test=0.600) exactitude: (test=0.919) f1: (test=0.000) précision: (test=0.000) sensibilté: (test=0.000) total time=   9.1s\n",
      "[08:24:13] WARNING: C:/Users/Administrator/workspace/xgboost-win64_release_1.4.0/src/learner.cc:1095: Starting in XGBoost 1.3.0, the default evaluation metric used with the objective 'binary:logistic' was changed from 'error' to 'logloss'. Explicitly set eval_metric if you'd like to restore the old behavior.\n"
     ]
    },
    {
     "name": "stderr",
     "output_type": "stream",
     "text": [
      "C:\\Users\\Sdis59\\anaconda3\\lib\\site-packages\\sklearn\\metrics\\_classification.py:1245: UndefinedMetricWarning: Precision is ill-defined and being set to 0.0 due to no predicted samples. Use `zero_division` parameter to control this behavior.\n",
      "  _warn_prf(average, modifier, msg_start, len(result))\n"
     ]
    },
    {
     "name": "stdout",
     "output_type": "stream",
     "text": [
      "[CV 2/5] END learning_rate=0.01, max_depth=1, n_estimators=100, use_label_encoder=False; ROC: (test=0.599) exactitude: (test=0.919) f1: (test=0.000) précision: (test=0.000) sensibilté: (test=0.000) total time=   8.1s\n",
      "[08:24:21] WARNING: C:/Users/Administrator/workspace/xgboost-win64_release_1.4.0/src/learner.cc:1095: Starting in XGBoost 1.3.0, the default evaluation metric used with the objective 'binary:logistic' was changed from 'error' to 'logloss'. Explicitly set eval_metric if you'd like to restore the old behavior.\n"
     ]
    },
    {
     "name": "stderr",
     "output_type": "stream",
     "text": [
      "C:\\Users\\Sdis59\\anaconda3\\lib\\site-packages\\sklearn\\metrics\\_classification.py:1245: UndefinedMetricWarning: Precision is ill-defined and being set to 0.0 due to no predicted samples. Use `zero_division` parameter to control this behavior.\n",
      "  _warn_prf(average, modifier, msg_start, len(result))\n"
     ]
    },
    {
     "name": "stdout",
     "output_type": "stream",
     "text": [
      "[CV 3/5] END learning_rate=0.01, max_depth=1, n_estimators=100, use_label_encoder=False; ROC: (test=0.603) exactitude: (test=0.919) f1: (test=0.000) précision: (test=0.000) sensibilté: (test=0.000) total time=   7.5s\n",
      "[08:24:28] WARNING: C:/Users/Administrator/workspace/xgboost-win64_release_1.4.0/src/learner.cc:1095: Starting in XGBoost 1.3.0, the default evaluation metric used with the objective 'binary:logistic' was changed from 'error' to 'logloss'. Explicitly set eval_metric if you'd like to restore the old behavior.\n"
     ]
    },
    {
     "name": "stderr",
     "output_type": "stream",
     "text": [
      "C:\\Users\\Sdis59\\anaconda3\\lib\\site-packages\\sklearn\\metrics\\_classification.py:1245: UndefinedMetricWarning: Precision is ill-defined and being set to 0.0 due to no predicted samples. Use `zero_division` parameter to control this behavior.\n",
      "  _warn_prf(average, modifier, msg_start, len(result))\n"
     ]
    },
    {
     "name": "stdout",
     "output_type": "stream",
     "text": [
      "[CV 4/5] END learning_rate=0.01, max_depth=1, n_estimators=100, use_label_encoder=False; ROC: (test=0.600) exactitude: (test=0.919) f1: (test=0.000) précision: (test=0.000) sensibilté: (test=0.000) total time=   7.6s\n",
      "[08:24:36] WARNING: C:/Users/Administrator/workspace/xgboost-win64_release_1.4.0/src/learner.cc:1095: Starting in XGBoost 1.3.0, the default evaluation metric used with the objective 'binary:logistic' was changed from 'error' to 'logloss'. Explicitly set eval_metric if you'd like to restore the old behavior.\n"
     ]
    },
    {
     "name": "stderr",
     "output_type": "stream",
     "text": [
      "C:\\Users\\Sdis59\\anaconda3\\lib\\site-packages\\sklearn\\metrics\\_classification.py:1245: UndefinedMetricWarning: Precision is ill-defined and being set to 0.0 due to no predicted samples. Use `zero_division` parameter to control this behavior.\n",
      "  _warn_prf(average, modifier, msg_start, len(result))\n"
     ]
    },
    {
     "name": "stdout",
     "output_type": "stream",
     "text": [
      "[CV 5/5] END learning_rate=0.01, max_depth=1, n_estimators=100, use_label_encoder=False; ROC: (test=0.597) exactitude: (test=0.919) f1: (test=0.000) précision: (test=0.000) sensibilté: (test=0.000) total time=   7.8s\n",
      "[08:24:44] WARNING: C:/Users/Administrator/workspace/xgboost-win64_release_1.4.0/src/learner.cc:1095: Starting in XGBoost 1.3.0, the default evaluation metric used with the objective 'binary:logistic' was changed from 'error' to 'logloss'. Explicitly set eval_metric if you'd like to restore the old behavior.\n"
     ]
    },
    {
     "name": "stderr",
     "output_type": "stream",
     "text": [
      "C:\\Users\\Sdis59\\anaconda3\\lib\\site-packages\\sklearn\\metrics\\_classification.py:1245: UndefinedMetricWarning: Precision is ill-defined and being set to 0.0 due to no predicted samples. Use `zero_division` parameter to control this behavior.\n",
      "  _warn_prf(average, modifier, msg_start, len(result))\n"
     ]
    },
    {
     "name": "stdout",
     "output_type": "stream",
     "text": [
      "[CV 1/5] END learning_rate=0.01, max_depth=1, n_estimators=200, use_label_encoder=False; ROC: (test=0.620) exactitude: (test=0.919) f1: (test=0.000) précision: (test=0.000) sensibilté: (test=0.000) total time=  16.5s\n",
      "[08:25:01] WARNING: C:/Users/Administrator/workspace/xgboost-win64_release_1.4.0/src/learner.cc:1095: Starting in XGBoost 1.3.0, the default evaluation metric used with the objective 'binary:logistic' was changed from 'error' to 'logloss'. Explicitly set eval_metric if you'd like to restore the old behavior.\n"
     ]
    },
    {
     "name": "stderr",
     "output_type": "stream",
     "text": [
      "C:\\Users\\Sdis59\\anaconda3\\lib\\site-packages\\sklearn\\metrics\\_classification.py:1245: UndefinedMetricWarning: Precision is ill-defined and being set to 0.0 due to no predicted samples. Use `zero_division` parameter to control this behavior.\n",
      "  _warn_prf(average, modifier, msg_start, len(result))\n"
     ]
    },
    {
     "name": "stdout",
     "output_type": "stream",
     "text": [
      "[CV 2/5] END learning_rate=0.01, max_depth=1, n_estimators=200, use_label_encoder=False; ROC: (test=0.613) exactitude: (test=0.919) f1: (test=0.000) précision: (test=0.000) sensibilté: (test=0.000) total time=  17.6s\n",
      "[08:25:18] WARNING: C:/Users/Administrator/workspace/xgboost-win64_release_1.4.0/src/learner.cc:1095: Starting in XGBoost 1.3.0, the default evaluation metric used with the objective 'binary:logistic' was changed from 'error' to 'logloss'. Explicitly set eval_metric if you'd like to restore the old behavior.\n"
     ]
    },
    {
     "name": "stderr",
     "output_type": "stream",
     "text": [
      "C:\\Users\\Sdis59\\anaconda3\\lib\\site-packages\\sklearn\\metrics\\_classification.py:1245: UndefinedMetricWarning: Precision is ill-defined and being set to 0.0 due to no predicted samples. Use `zero_division` parameter to control this behavior.\n",
      "  _warn_prf(average, modifier, msg_start, len(result))\n"
     ]
    },
    {
     "name": "stdout",
     "output_type": "stream",
     "text": [
      "[CV 3/5] END learning_rate=0.01, max_depth=1, n_estimators=200, use_label_encoder=False; ROC: (test=0.618) exactitude: (test=0.919) f1: (test=0.000) précision: (test=0.000) sensibilté: (test=0.000) total time=  15.8s\n",
      "[08:25:34] WARNING: C:/Users/Administrator/workspace/xgboost-win64_release_1.4.0/src/learner.cc:1095: Starting in XGBoost 1.3.0, the default evaluation metric used with the objective 'binary:logistic' was changed from 'error' to 'logloss'. Explicitly set eval_metric if you'd like to restore the old behavior.\n"
     ]
    },
    {
     "name": "stderr",
     "output_type": "stream",
     "text": [
      "C:\\Users\\Sdis59\\anaconda3\\lib\\site-packages\\sklearn\\metrics\\_classification.py:1245: UndefinedMetricWarning: Precision is ill-defined and being set to 0.0 due to no predicted samples. Use `zero_division` parameter to control this behavior.\n",
      "  _warn_prf(average, modifier, msg_start, len(result))\n"
     ]
    },
    {
     "name": "stdout",
     "output_type": "stream",
     "text": [
      "[CV 4/5] END learning_rate=0.01, max_depth=1, n_estimators=200, use_label_encoder=False; ROC: (test=0.615) exactitude: (test=0.919) f1: (test=0.000) précision: (test=0.000) sensibilté: (test=0.000) total time=  14.7s\n",
      "[08:25:49] WARNING: C:/Users/Administrator/workspace/xgboost-win64_release_1.4.0/src/learner.cc:1095: Starting in XGBoost 1.3.0, the default evaluation metric used with the objective 'binary:logistic' was changed from 'error' to 'logloss'. Explicitly set eval_metric if you'd like to restore the old behavior.\n"
     ]
    },
    {
     "name": "stderr",
     "output_type": "stream",
     "text": [
      "C:\\Users\\Sdis59\\anaconda3\\lib\\site-packages\\sklearn\\metrics\\_classification.py:1245: UndefinedMetricWarning: Precision is ill-defined and being set to 0.0 due to no predicted samples. Use `zero_division` parameter to control this behavior.\n",
      "  _warn_prf(average, modifier, msg_start, len(result))\n"
     ]
    },
    {
     "name": "stdout",
     "output_type": "stream",
     "text": [
      "[CV 5/5] END learning_rate=0.01, max_depth=1, n_estimators=200, use_label_encoder=False; ROC: (test=0.612) exactitude: (test=0.919) f1: (test=0.000) précision: (test=0.000) sensibilté: (test=0.000) total time=  17.0s\n",
      "[08:26:07] WARNING: C:/Users/Administrator/workspace/xgboost-win64_release_1.4.0/src/learner.cc:1095: Starting in XGBoost 1.3.0, the default evaluation metric used with the objective 'binary:logistic' was changed from 'error' to 'logloss'. Explicitly set eval_metric if you'd like to restore the old behavior.\n",
      "[CV 1/5] END learning_rate=0.01, max_depth=5, n_estimators=100, use_label_encoder=False; ROC: (test=0.653) exactitude: (test=0.919) f1: (test=0.000) précision: (test=0.000) sensibilté: (test=0.000) total time=  29.7s\n",
      "[08:26:36] WARNING: C:/Users/Administrator/workspace/xgboost-win64_release_1.4.0/src/learner.cc:1095: Starting in XGBoost 1.3.0, the default evaluation metric used with the objective 'binary:logistic' was changed from 'error' to 'logloss'. Explicitly set eval_metric if you'd like to restore the old behavior.\n"
     ]
    },
    {
     "name": "stderr",
     "output_type": "stream",
     "text": [
      "C:\\Users\\Sdis59\\anaconda3\\lib\\site-packages\\sklearn\\metrics\\_classification.py:1245: UndefinedMetricWarning: Precision is ill-defined and being set to 0.0 due to no predicted samples. Use `zero_division` parameter to control this behavior.\n",
      "  _warn_prf(average, modifier, msg_start, len(result))\n"
     ]
    },
    {
     "name": "stdout",
     "output_type": "stream",
     "text": [
      "[CV 2/5] END learning_rate=0.01, max_depth=5, n_estimators=100, use_label_encoder=False; ROC: (test=0.653) exactitude: (test=0.919) f1: (test=0.000) précision: (test=0.000) sensibilté: (test=0.000) total time=  24.8s\n",
      "[08:27:01] WARNING: C:/Users/Administrator/workspace/xgboost-win64_release_1.4.0/src/learner.cc:1095: Starting in XGBoost 1.3.0, the default evaluation metric used with the objective 'binary:logistic' was changed from 'error' to 'logloss'. Explicitly set eval_metric if you'd like to restore the old behavior.\n",
      "[CV 3/5] END learning_rate=0.01, max_depth=5, n_estimators=100, use_label_encoder=False; ROC: (test=0.651) exactitude: (test=0.919) f1: (test=0.000) précision: (test=0.000) sensibilté: (test=0.000) total time=  28.3s\n",
      "[08:27:30] WARNING: C:/Users/Administrator/workspace/xgboost-win64_release_1.4.0/src/learner.cc:1095: Starting in XGBoost 1.3.0, the default evaluation metric used with the objective 'binary:logistic' was changed from 'error' to 'logloss'. Explicitly set eval_metric if you'd like to restore the old behavior.\n"
     ]
    },
    {
     "name": "stderr",
     "output_type": "stream",
     "text": [
      "C:\\Users\\Sdis59\\anaconda3\\lib\\site-packages\\sklearn\\metrics\\_classification.py:1245: UndefinedMetricWarning: Precision is ill-defined and being set to 0.0 due to no predicted samples. Use `zero_division` parameter to control this behavior.\n",
      "  _warn_prf(average, modifier, msg_start, len(result))\n"
     ]
    },
    {
     "name": "stdout",
     "output_type": "stream",
     "text": [
      "[CV 4/5] END learning_rate=0.01, max_depth=5, n_estimators=100, use_label_encoder=False; ROC: (test=0.647) exactitude: (test=0.919) f1: (test=0.000) précision: (test=0.000) sensibilté: (test=0.000) total time=  27.8s\n",
      "[08:27:58] WARNING: C:/Users/Administrator/workspace/xgboost-win64_release_1.4.0/src/learner.cc:1095: Starting in XGBoost 1.3.0, the default evaluation metric used with the objective 'binary:logistic' was changed from 'error' to 'logloss'. Explicitly set eval_metric if you'd like to restore the old behavior.\n"
     ]
    },
    {
     "name": "stderr",
     "output_type": "stream",
     "text": [
      "C:\\Users\\Sdis59\\anaconda3\\lib\\site-packages\\sklearn\\metrics\\_classification.py:1245: UndefinedMetricWarning: Precision is ill-defined and being set to 0.0 due to no predicted samples. Use `zero_division` parameter to control this behavior.\n",
      "  _warn_prf(average, modifier, msg_start, len(result))\n"
     ]
    },
    {
     "name": "stdout",
     "output_type": "stream",
     "text": [
      "[CV 5/5] END learning_rate=0.01, max_depth=5, n_estimators=100, use_label_encoder=False; ROC: (test=0.643) exactitude: (test=0.919) f1: (test=0.000) précision: (test=0.000) sensibilté: (test=0.000) total time=  27.0s\n",
      "[08:28:25] WARNING: C:/Users/Administrator/workspace/xgboost-win64_release_1.4.0/src/learner.cc:1095: Starting in XGBoost 1.3.0, the default evaluation metric used with the objective 'binary:logistic' was changed from 'error' to 'logloss'. Explicitly set eval_metric if you'd like to restore the old behavior.\n"
     ]
    },
    {
     "name": "stderr",
     "output_type": "stream",
     "text": [
      "C:\\Users\\Sdis59\\anaconda3\\lib\\site-packages\\sklearn\\metrics\\_classification.py:1245: UndefinedMetricWarning: Precision is ill-defined and being set to 0.0 due to no predicted samples. Use `zero_division` parameter to control this behavior.\n",
      "  _warn_prf(average, modifier, msg_start, len(result))\n"
     ]
    },
    {
     "name": "stdout",
     "output_type": "stream",
     "text": [
      "[CV 1/5] END learning_rate=0.01, max_depth=5, n_estimators=200, use_label_encoder=False; ROC: (test=0.660) exactitude: (test=0.919) f1: (test=0.000) précision: (test=0.000) sensibilté: (test=0.000) total time=  54.5s\n",
      "[08:29:20] WARNING: C:/Users/Administrator/workspace/xgboost-win64_release_1.4.0/src/learner.cc:1095: Starting in XGBoost 1.3.0, the default evaluation metric used with the objective 'binary:logistic' was changed from 'error' to 'logloss'. Explicitly set eval_metric if you'd like to restore the old behavior.\n"
     ]
    },
    {
     "name": "stderr",
     "output_type": "stream",
     "text": [
      "C:\\Users\\Sdis59\\anaconda3\\lib\\site-packages\\sklearn\\metrics\\_classification.py:1245: UndefinedMetricWarning: Precision is ill-defined and being set to 0.0 due to no predicted samples. Use `zero_division` parameter to control this behavior.\n",
      "  _warn_prf(average, modifier, msg_start, len(result))\n"
     ]
    },
    {
     "name": "stdout",
     "output_type": "stream",
     "text": [
      "[CV 2/5] END learning_rate=0.01, max_depth=5, n_estimators=200, use_label_encoder=False; ROC: (test=0.658) exactitude: (test=0.919) f1: (test=0.000) précision: (test=0.000) sensibilté: (test=0.000) total time=  54.3s\n",
      "[08:30:14] WARNING: C:/Users/Administrator/workspace/xgboost-win64_release_1.4.0/src/learner.cc:1095: Starting in XGBoost 1.3.0, the default evaluation metric used with the objective 'binary:logistic' was changed from 'error' to 'logloss'. Explicitly set eval_metric if you'd like to restore the old behavior.\n"
     ]
    },
    {
     "name": "stderr",
     "output_type": "stream",
     "text": [
      "C:\\Users\\Sdis59\\anaconda3\\lib\\site-packages\\sklearn\\metrics\\_classification.py:1245: UndefinedMetricWarning: Precision is ill-defined and being set to 0.0 due to no predicted samples. Use `zero_division` parameter to control this behavior.\n",
      "  _warn_prf(average, modifier, msg_start, len(result))\n"
     ]
    },
    {
     "name": "stdout",
     "output_type": "stream",
     "text": [
      "[CV 3/5] END learning_rate=0.01, max_depth=5, n_estimators=200, use_label_encoder=False; ROC: (test=0.659) exactitude: (test=0.919) f1: (test=0.000) précision: (test=0.000) sensibilté: (test=0.000) total time= 2.5min\n",
      "[08:32:43] WARNING: C:/Users/Administrator/workspace/xgboost-win64_release_1.4.0/src/learner.cc:1095: Starting in XGBoost 1.3.0, the default evaluation metric used with the objective 'binary:logistic' was changed from 'error' to 'logloss'. Explicitly set eval_metric if you'd like to restore the old behavior.\n"
     ]
    },
    {
     "name": "stderr",
     "output_type": "stream",
     "text": [
      "C:\\Users\\Sdis59\\anaconda3\\lib\\site-packages\\sklearn\\metrics\\_classification.py:1245: UndefinedMetricWarning: Precision is ill-defined and being set to 0.0 due to no predicted samples. Use `zero_division` parameter to control this behavior.\n",
      "  _warn_prf(average, modifier, msg_start, len(result))\n"
     ]
    },
    {
     "name": "stdout",
     "output_type": "stream",
     "text": [
      "[CV 4/5] END learning_rate=0.01, max_depth=5, n_estimators=200, use_label_encoder=False; ROC: (test=0.654) exactitude: (test=0.919) f1: (test=0.000) précision: (test=0.000) sensibilté: (test=0.000) total time=  40.9s\n",
      "[08:33:24] WARNING: C:/Users/Administrator/workspace/xgboost-win64_release_1.4.0/src/learner.cc:1095: Starting in XGBoost 1.3.0, the default evaluation metric used with the objective 'binary:logistic' was changed from 'error' to 'logloss'. Explicitly set eval_metric if you'd like to restore the old behavior.\n"
     ]
    },
    {
     "name": "stderr",
     "output_type": "stream",
     "text": [
      "C:\\Users\\Sdis59\\anaconda3\\lib\\site-packages\\sklearn\\metrics\\_classification.py:1245: UndefinedMetricWarning: Precision is ill-defined and being set to 0.0 due to no predicted samples. Use `zero_division` parameter to control this behavior.\n",
      "  _warn_prf(average, modifier, msg_start, len(result))\n"
     ]
    },
    {
     "name": "stdout",
     "output_type": "stream",
     "text": [
      "[CV 5/5] END learning_rate=0.01, max_depth=5, n_estimators=200, use_label_encoder=False; ROC: (test=0.651) exactitude: (test=0.919) f1: (test=0.000) précision: (test=0.000) sensibilté: (test=0.000) total time=  46.9s\n",
      "[08:34:12] WARNING: C:/Users/Administrator/workspace/xgboost-win64_release_1.4.0/src/learner.cc:1095: Starting in XGBoost 1.3.0, the default evaluation metric used with the objective 'binary:logistic' was changed from 'error' to 'logloss'. Explicitly set eval_metric if you'd like to restore the old behavior.\n",
      "[CV 1/5] END learning_rate=0.01, max_depth=10, n_estimators=100, use_label_encoder=False; ROC: (test=0.655) exactitude: (test=0.919) f1: (test=0.000) précision: (test=0.000) sensibilté: (test=0.000) total time= 1.1min\n",
      "[08:35:16] WARNING: C:/Users/Administrator/workspace/xgboost-win64_release_1.4.0/src/learner.cc:1095: Starting in XGBoost 1.3.0, the default evaluation metric used with the objective 'binary:logistic' was changed from 'error' to 'logloss'. Explicitly set eval_metric if you'd like to restore the old behavior.\n",
      "[CV 2/5] END learning_rate=0.01, max_depth=10, n_estimators=100, use_label_encoder=False; ROC: (test=0.655) exactitude: (test=0.919) f1: (test=0.000) précision: (test=0.000) sensibilté: (test=0.000) total time=  57.8s\n",
      "[08:36:14] WARNING: C:/Users/Administrator/workspace/xgboost-win64_release_1.4.0/src/learner.cc:1095: Starting in XGBoost 1.3.0, the default evaluation metric used with the objective 'binary:logistic' was changed from 'error' to 'logloss'. Explicitly set eval_metric if you'd like to restore the old behavior.\n",
      "[CV 3/5] END learning_rate=0.01, max_depth=10, n_estimators=100, use_label_encoder=False; ROC: (test=0.656) exactitude: (test=0.919) f1: (test=0.001) précision: (test=0.200) sensibilté: (test=0.000) total time= 1.0min\n",
      "[08:37:14] WARNING: C:/Users/Administrator/workspace/xgboost-win64_release_1.4.0/src/learner.cc:1095: Starting in XGBoost 1.3.0, the default evaluation metric used with the objective 'binary:logistic' was changed from 'error' to 'logloss'. Explicitly set eval_metric if you'd like to restore the old behavior.\n"
     ]
    },
    {
     "name": "stderr",
     "output_type": "stream",
     "text": [
      "C:\\Users\\Sdis59\\anaconda3\\lib\\site-packages\\sklearn\\metrics\\_classification.py:1245: UndefinedMetricWarning: Precision is ill-defined and being set to 0.0 due to no predicted samples. Use `zero_division` parameter to control this behavior.\n",
      "  _warn_prf(average, modifier, msg_start, len(result))\n"
     ]
    },
    {
     "name": "stdout",
     "output_type": "stream",
     "text": [
      "[CV 4/5] END learning_rate=0.01, max_depth=10, n_estimators=100, use_label_encoder=False; ROC: (test=0.652) exactitude: (test=0.919) f1: (test=0.000) précision: (test=0.000) sensibilté: (test=0.000) total time= 1.0min\n",
      "[08:38:15] WARNING: C:/Users/Administrator/workspace/xgboost-win64_release_1.4.0/src/learner.cc:1095: Starting in XGBoost 1.3.0, the default evaluation metric used with the objective 'binary:logistic' was changed from 'error' to 'logloss'. Explicitly set eval_metric if you'd like to restore the old behavior.\n",
      "[CV 5/5] END learning_rate=0.01, max_depth=10, n_estimators=100, use_label_encoder=False; ROC: (test=0.646) exactitude: (test=0.919) f1: (test=0.002) précision: (test=0.750) sensibilté: (test=0.001) total time= 1.1min\n",
      "[08:39:19] WARNING: C:/Users/Administrator/workspace/xgboost-win64_release_1.4.0/src/learner.cc:1095: Starting in XGBoost 1.3.0, the default evaluation metric used with the objective 'binary:logistic' was changed from 'error' to 'logloss'. Explicitly set eval_metric if you'd like to restore the old behavior.\n",
      "[CV 1/5] END learning_rate=0.01, max_depth=10, n_estimators=200, use_label_encoder=False; ROC: (test=0.660) exactitude: (test=0.919) f1: (test=0.000) précision: (test=0.000) sensibilté: (test=0.000) total time= 2.2min\n",
      "[08:41:28] WARNING: C:/Users/Administrator/workspace/xgboost-win64_release_1.4.0/src/learner.cc:1095: Starting in XGBoost 1.3.0, the default evaluation metric used with the objective 'binary:logistic' was changed from 'error' to 'logloss'. Explicitly set eval_metric if you'd like to restore the old behavior.\n"
     ]
    },
    {
     "name": "stderr",
     "output_type": "stream",
     "text": [
      "C:\\Users\\Sdis59\\anaconda3\\lib\\site-packages\\sklearn\\metrics\\_classification.py:1245: UndefinedMetricWarning: Precision is ill-defined and being set to 0.0 due to no predicted samples. Use `zero_division` parameter to control this behavior.\n",
      "  _warn_prf(average, modifier, msg_start, len(result))\n"
     ]
    },
    {
     "name": "stdout",
     "output_type": "stream",
     "text": [
      "[CV 2/5] END learning_rate=0.01, max_depth=10, n_estimators=200, use_label_encoder=False; ROC: (test=0.660) exactitude: (test=0.919) f1: (test=0.000) précision: (test=0.000) sensibilté: (test=0.000) total time= 2.2min\n",
      "[08:43:42] WARNING: C:/Users/Administrator/workspace/xgboost-win64_release_1.4.0/src/learner.cc:1095: Starting in XGBoost 1.3.0, the default evaluation metric used with the objective 'binary:logistic' was changed from 'error' to 'logloss'. Explicitly set eval_metric if you'd like to restore the old behavior.\n",
      "[CV 3/5] END learning_rate=0.01, max_depth=10, n_estimators=200, use_label_encoder=False; ROC: (test=0.663) exactitude: (test=0.919) f1: (test=0.000) précision: (test=0.000) sensibilté: (test=0.000) total time= 2.2min\n",
      "[08:45:53] WARNING: C:/Users/Administrator/workspace/xgboost-win64_release_1.4.0/src/learner.cc:1095: Starting in XGBoost 1.3.0, the default evaluation metric used with the objective 'binary:logistic' was changed from 'error' to 'logloss'. Explicitly set eval_metric if you'd like to restore the old behavior.\n"
     ]
    },
    {
     "name": "stderr",
     "output_type": "stream",
     "text": [
      "C:\\Users\\Sdis59\\anaconda3\\lib\\site-packages\\sklearn\\metrics\\_classification.py:1245: UndefinedMetricWarning: Precision is ill-defined and being set to 0.0 due to no predicted samples. Use `zero_division` parameter to control this behavior.\n",
      "  _warn_prf(average, modifier, msg_start, len(result))\n"
     ]
    },
    {
     "name": "stdout",
     "output_type": "stream",
     "text": [
      "[CV 4/5] END learning_rate=0.01, max_depth=10, n_estimators=200, use_label_encoder=False; ROC: (test=0.658) exactitude: (test=0.919) f1: (test=0.000) précision: (test=0.000) sensibilté: (test=0.000) total time= 2.1min\n",
      "[08:47:58] WARNING: C:/Users/Administrator/workspace/xgboost-win64_release_1.4.0/src/learner.cc:1095: Starting in XGBoost 1.3.0, the default evaluation metric used with the objective 'binary:logistic' was changed from 'error' to 'logloss'. Explicitly set eval_metric if you'd like to restore the old behavior.\n",
      "[CV 5/5] END learning_rate=0.01, max_depth=10, n_estimators=200, use_label_encoder=False; ROC: (test=0.652) exactitude: (test=0.919) f1: (test=0.001) précision: (test=1.000) sensibilté: (test=0.001) total time= 2.3min\n",
      "[08:50:14] WARNING: C:/Users/Administrator/workspace/xgboost-win64_release_1.4.0/src/learner.cc:1095: Starting in XGBoost 1.3.0, the default evaluation metric used with the objective 'binary:logistic' was changed from 'error' to 'logloss'. Explicitly set eval_metric if you'd like to restore the old behavior.\n",
      "Meilleure exactitude :  0.6787975153102727\n",
      "Meilleurs paramètres : {'learning_rate': 0.1, 'max_depth': 5, 'n_estimators': 200, 'use_label_encoder': False}\n"
     ]
    }
   ],
   "source": [
    "import numpy as np \n",
    "\n",
    "classificateur_XGB = XGBClassifier()\n",
    "\n",
    "les_paramètres_XGB = {'max_depth': [1,\n",
    "                                    5,\n",
    "                                    10],\n",
    "                      'n_estimators': [100,\n",
    "                                       200],\n",
    "                      'learning_rate': [0.1,\n",
    "                                        0.01],\n",
    "                      'use_label_encoder' : [False]}\n",
    "\n",
    "classificateur_XGB, predictions = teste_modèle(X_entrainement, \n",
    "                                               X_test,\n",
    "                                               y_entrainement,\n",
    "                                               y_test,\n",
    "                                               classificateur_XGB, \n",
    "                                               les_paramètres_XGB,\n",
    "                                               5,\n",
    "                                               cotation)\n",
    "\n",
    "print('Meilleure exactitude : ',\n",
    "      classificateur_XGB.best_score_)\n",
    "print('Meilleurs paramètres :',\n",
    "      classificateur_XGB.best_params_)  "
   ]
  },
  {
   "cell_type": "code",
   "execution_count": 25,
   "metadata": {},
   "outputs": [
    {
     "name": "stdout",
     "output_type": "stream",
     "text": [
      "[08:51:33] WARNING: C:/Users/Administrator/workspace/xgboost-win64_release_1.4.0/src/learner.cc:1095: Starting in XGBoost 1.3.0, the default evaluation metric used with the objective 'binary:logistic' was changed from 'error' to 'logloss'. Explicitly set eval_metric if you'd like to restore the old behavior.\n"
     ]
    }
   ],
   "source": [
    "modèle_XGB_retenu = XGBClassifier(random_state = 500,\n",
    "                                  learning_rate = 0.1,\n",
    "                                  max_depth = 5,\n",
    "                                  n_estimators = 200,\n",
    "                                  use_label_encoder = False)\n",
    "\n",
    "les_textes = np.array((['Vrais négatifs\\n' + str(matrice_de_confusion_forêt[0][0]),\n",
    "                       'Faux négatifss\\n' + str(matrice_de_confusion_forêt[0][1])],\n",
    "                       ['Faux positifss\\n' + str(matrice_de_confusion_forêt[1][0]),\n",
    "                        'Vrais positifs\\n' + str(matrice_de_confusion_forêt[1][1])]),\n",
    "                       dtype = 'object')\n",
    "\n",
    "le_modèle_XGB_retenu_ajusté = modèle_XGB_retenu.fit(X_entrainement,\n",
    "                                                    y_entrainement)\n",
    "les_valeurs_prédites_modèle_XGB_retenu = le_modèle_XGB_retenu_ajusté.predict(X_test)        \n",
    "\n",
    "df_résultats_XGB = pd.DataFrame(columns = {'prédits',\n",
    "                                           'réels'})\n",
    "df_résultats_XGB['prédits'] = le_modèle_XGB_retenu_ajusté.predict(X_test) \n",
    "df_résultats_XGB['réels'] = np.array(y_test)"
   ]
  },
  {
   "cell_type": "code",
   "execution_count": 26,
   "metadata": {},
   "outputs": [
    {
     "data": {
      "image/png": "[encoded data removed]",
      "text/plain": [
       "<Figure size 360x360 with 1 Axes>"
      ]
     },
     "metadata": {
      "needs_background": "light"
     },
     "output_type": "display_data"
    },
    {
     "name": "stdout",
     "output_type": "stream",
     "text": [
      "              precision    recall  f1-score   support\n",
      "\n",
      "           0       1.00      0.92      0.96     92251\n",
      "           1       0.00      0.00      0.00         2\n",
      "\n",
      "    accuracy                           0.92     92253\n",
      "   macro avg       0.50      0.46      0.48     92253\n",
      "weighted avg       1.00      0.92      0.96     92253\n",
      "\n"
     ]
    }
   ],
   "source": [
    "matrice_de_confusion_XGB = metrics.confusion_matrix(np.array(y_test), \n",
    "                                                    les_valeurs_prédites_modèle_XGB_retenu)\n",
    "                                                \n",
    "les_textes = np.array((['Vrais négatifs\\n' + str(matrice_de_confusion_XGB[0][0]),\n",
    "                       'Faux négatifss\\n' + str(matrice_de_confusion_XGB[0][1])],\n",
    "                       ['Faux positifss\\n' + str(matrice_de_confusion_XGB[1][0]),\n",
    "                        'Vrais positifs\\n' + str(matrice_de_confusion_XGB[1][1])]),\n",
    "                       dtype = 'object')\n",
    "\n",
    "plt.figure(figsize = (5,\n",
    "                      5))\n",
    "sns.heatmap(matrice_de_confusion_XGB,\n",
    "            cmap = 'icefire',\n",
    "            annot = les_textes,\n",
    "            fmt = '',\n",
    "            cbar = False,\n",
    "            linewidths = .5)\n",
    "plt.xlabel('Réels')\n",
    "plt.ylabel('Prédits')\n",
    "plt.title('Matrice de confusion du modèle XGBoost',\n",
    "          fontsize = 12,\n",
    "          fontweight = 'bold')\n",
    "plt.show()\n",
    "\n",
    "print(metrics.classification_report(les_valeurs_prédites_modèle_XGB_retenu,\n",
    "                                                     np.array(y_test)))"
   ]
  },
  {
   "cell_type": "code",
   "execution_count": 27,
   "metadata": {},
   "outputs": [
    {
     "data": {
      "image/png": "[encoded data removed]",
      "text/plain": [
       "<Figure size 432x288 with 1 Axes>"
      ]
     },
     "metadata": {
      "needs_background": "light"
     },
     "output_type": "display_data"
    },
    {
     "name": "stdout",
     "output_type": "stream",
     "text": [
      "AUC du modèle XGB : 0.67\n"
     ]
    }
   ],
   "source": [
    "auc_XGB, FP_XGB, TP_XGB, seuil_XGB = trace_ROC(le_modèle_XGB_retenu_ajusté,\n",
    "                    'modèle XGB')"
   ]
  },
  {
   "cell_type": "markdown",
   "metadata": {},
   "source": [
    "Rééquilibrage avec SMOTE et les poids des classes (class weights)"
   ]
  },
  {
   "cell_type": "code",
   "execution_count": 28,
   "metadata": {},
   "outputs": [],
   "source": [
    "import imblearn"
   ]
  },
  {
   "cell_type": "markdown",
   "metadata": {},
   "source": [
    "SMOTE"
   ]
  },
  {
   "cell_type": "code",
   "execution_count": 29,
   "metadata": {},
   "outputs": [
    {
     "data": {
      "image/png": "[encoded data removed]",
      "text/plain": [
       "<Figure size 432x288 with 1 Axes>"
      ]
     },
     "metadata": {
      "needs_background": "light"
     },
     "output_type": "display_data"
    },
    {
     "data": {
      "text/plain": [
       "Counter({1: 24825, 0: 282682})"
      ]
     },
     "execution_count": 29,
     "metadata": {},
     "output_type": "execute_result"
    }
   ],
   "source": [
    "from collections import Counter\n",
    "from numpy import where\n",
    "\n",
    "# Etat des données initiales\n",
    "compteur_initial = Counter(y)\n",
    "couleurs = ['red',\n",
    "            'green']\n",
    "plt.bar(x = compteur_initial.keys(),\n",
    "        height = compteur_initial.values(),\n",
    "        color = couleurs)\n",
    "plt.xticks([0,\n",
    "            1])\n",
    "plt.title('Répartition initiale des classes',\n",
    "          fontsize = 12,\n",
    "          fontweight = 'bold')\n",
    "plt.show() \n",
    "\n",
    "compteur_initial"
   ]
  },
  {
   "cell_type": "code",
   "execution_count": 30,
   "metadata": {},
   "outputs": [],
   "source": [
    "# Application de SMOTE\n",
    "from imblearn.over_sampling import SMOTE\n",
    "\n",
    "rééchantillonage = SMOTE()\n",
    "X_SMOTE, y_SMOTE = rééchantillonage.fit_resample(X, y)\n"
   ]
  },
  {
   "cell_type": "code",
   "execution_count": 31,
   "metadata": {},
   "outputs": [
    {
     "data": {
      "image/png": "[encoded data removed]",
      "text/plain": [
       "<Figure size 432x288 with 1 Axes>"
      ]
     },
     "metadata": {
      "needs_background": "light"
     },
     "output_type": "display_data"
    },
    {
     "data": {
      "text/plain": [
       "Counter({1: 282682, 0: 282682})"
      ]
     },
     "execution_count": 31,
     "metadata": {},
     "output_type": "execute_result"
    }
   ],
   "source": [
    "compteur_SMOTE = Counter(y_SMOTE)\n",
    "couleurs = ['red',\n",
    "            'green']\n",
    "plt.bar(x = compteur_SMOTE.keys(),\n",
    "        height = compteur_SMOTE.values(),\n",
    "        color = couleurs)\n",
    "plt.xticks([0,\n",
    "            1])\n",
    "plt.title('Répartition initiale des classes',\n",
    "          fontsize = 12,\n",
    "          fontweight = 'bold')\n",
    "plt.show() \n",
    "\n",
    "compteur_SMOTE"
   ]
  },
  {
   "cell_type": "markdown",
   "metadata": {},
   "source": [
    "On va faire tourner les modèles optimaux avec le rééchantillonage."
   ]
  },
  {
   "cell_type": "code",
   "execution_count": 32,
   "metadata": {},
   "outputs": [],
   "source": [
    "# Nouveaux jeux de test et d'entrainement\n",
    "X_entrainement_SMOTE, X_test_SMOTE, y_entrainement_SMOTE, y_test_SMOTE =  model_selection.train_test_split(X_SMOTE,\n",
    "                                                                                                           y_SMOTE,\n",
    "                                                                                                           test_size = 0.3,\n",
    "                                                                                                           random_state = 500)\n",
    "\n",
    "# Travail des modèles\n",
    "def dessine_matrice_SMOTE(le_modèle,\n",
    "                    le_nom_du_modèle) :\n",
    "    \n",
    "    le_modèle_ajusté = le_modèle.fit(X_entrainement_SMOTE,\n",
    "                                     y_entrainement_SMOTE)\n",
    "    les_valeurs_prédites_du_modèle = le_modèle_ajusté.predict(X_test_SMOTE)\n",
    "\n",
    "    la_matrice = metrics.confusion_matrix(np.array(y_test_SMOTE), \n",
    "                                          les_valeurs_prédites_du_modèle)\n",
    "    \n",
    "    les_textes = np.array((['Vrais négatifs\\n' + str(la_matrice[0][0]),\n",
    "                            'Faux négatifss\\n' + str(la_matrice[0][1])],\n",
    "                            ['Faux positifss\\n' + str(la_matrice[1][0]),\n",
    "                            'Vrais positifs\\n' + str(la_matrice[1][1])]),\n",
    "                            dtype = 'object')\n",
    "\n",
    "    df_résultats = pd.DataFrame(columns = {'prédits',\n",
    "                                           'réels'})\n",
    "    df_résultats['prédits'] = le_modèle_ajusté.predict(X_test_SMOTE) \n",
    "    df_résultats['réels'] = np.array(y_test_SMOTE)\n",
    "\n",
    "    plt.figure(figsize = (5,\n",
    "                        5))\n",
    "    sns.heatmap(la_matrice,\n",
    "                cmap = 'icefire',\n",
    "                annot = les_textes,\n",
    "                fmt = '',\n",
    "                cbar = False,\n",
    "                linewidths = .5)\n",
    "    plt.xlabel('Réels')\n",
    "    plt.ylabel('Prédits')\n",
    "    plt.title('Matrice de confusion du modèle ' + le_nom_du_modèle,\n",
    "              fontsize = 12,\n",
    "              fontweight = 'bold')\n",
    "    plt.show()\n",
    "\n",
    "    print(metrics.classification_report(les_valeurs_prédites_du_modèle,\n",
    "                                                     np.array(y_test_SMOTE)))\n",
    "\n",
    "    return le_modèle_ajusté, la_matrice"
   ]
  },
  {
   "cell_type": "code",
   "execution_count": 33,
   "metadata": {},
   "outputs": [
    {
     "data": {
      "image/png": "[encoded data removed]",
      "text/plain": [
       "<Figure size 360x360 with 1 Axes>"
      ]
     },
     "metadata": {
      "needs_background": "light"
     },
     "output_type": "display_data"
    },
    {
     "name": "stdout",
     "output_type": "stream",
     "text": [
      "              precision    recall  f1-score   support\n",
      "\n",
      "           0       0.50      0.50      0.50     84963\n",
      "           1       0.50      0.50      0.50     84647\n",
      "\n",
      "    accuracy                           0.50    169610\n",
      "   macro avg       0.50      0.50      0.50    169610\n",
      "weighted avg       0.50      0.50      0.50    169610\n",
      "\n"
     ]
    }
   ],
   "source": [
    "modèle_naïf_ajusté_SMOTE, la_matrice_SMOTE_modèle_naïf_retenu = dessine_matrice_SMOTE(modèle_naïf_retenu,\n",
    "                                                            'naïf')"
   ]
  },
  {
   "cell_type": "code",
   "execution_count": 34,
   "metadata": {},
   "outputs": [
    {
     "data": {
      "image/png": "[encoded data removed]",
      "text/plain": [
       "<Figure size 432x288 with 1 Axes>"
      ]
     },
     "metadata": {
      "needs_background": "light"
     },
     "output_type": "display_data"
    },
    {
     "name": "stdout",
     "output_type": "stream",
     "text": [
      "AUC du modèle naïf SMOTE : 0.50\n"
     ]
    }
   ],
   "source": [
    "auc_naïf_SMOTE, FP_naïf_SMOTE, TP_naïf_SMOTE, seuil_naïf_SMOTE = trace_ROC(modèle_naïf_ajusté_SMOTE,\n",
    "                           'modèle naïf SMOTE')\n"
   ]
  },
  {
   "cell_type": "code",
   "execution_count": 35,
   "metadata": {},
   "outputs": [
    {
     "data": {
      "image/png": "[encoded data removed]",
      "text/plain": [
       "<Figure size 360x360 with 1 Axes>"
      ]
     },
     "metadata": {
      "needs_background": "light"
     },
     "output_type": "display_data"
    },
    {
     "name": "stdout",
     "output_type": "stream",
     "text": [
      "              precision    recall  f1-score   support\n",
      "\n",
      "           0       0.98      0.89      0.93     93217\n",
      "           1       0.88      0.98      0.93     76393\n",
      "\n",
      "    accuracy                           0.93    169610\n",
      "   macro avg       0.93      0.93      0.93    169610\n",
      "weighted avg       0.93      0.93      0.93    169610\n",
      "\n"
     ]
    }
   ],
   "source": [
    "modèle_forêt_ajusté_SMOTE, la_matrice_SMOTE_modèle_forêt_retenu = dessine_matrice_SMOTE(modèle_forêt_retenu,\n",
    "                                                             'forêts alélatoires')"
   ]
  },
  {
   "cell_type": "code",
   "execution_count": 36,
   "metadata": {},
   "outputs": [
    {
     "data": {
      "image/png": "[encoded data removed]",
      "text/plain": [
       "<Figure size 432x288 with 1 Axes>"
      ]
     },
     "metadata": {
      "needs_background": "light"
     },
     "output_type": "display_data"
    },
    {
     "name": "stdout",
     "output_type": "stream",
     "text": [
      "AUC du modèle forêt SMOTE : 0.63\n"
     ]
    }
   ],
   "source": [
    "auc_forêt_SMOTE, FP_forêt_SMOTE, TP_forêt_SMOTE, seuil_forêt_SMOTE = trace_ROC(modèle_forêt_ajusté_SMOTE,\n",
    "                            'modèle forêt SMOTE')"
   ]
  },
  {
   "cell_type": "code",
   "execution_count": 37,
   "metadata": {},
   "outputs": [
    {
     "name": "stdout",
     "output_type": "stream",
     "text": [
      "[08:58:35] WARNING: C:/Users/Administrator/workspace/xgboost-win64_release_1.4.0/src/learner.cc:1095: Starting in XGBoost 1.3.0, the default evaluation metric used with the objective 'binary:logistic' was changed from 'error' to 'logloss'. Explicitly set eval_metric if you'd like to restore the old behavior.\n"
     ]
    },
    {
     "data": {
      "image/png": "[encoded data removed]",
      "text/plain": [
       "<Figure size 360x360 with 1 Axes>"
      ]
     },
     "metadata": {
      "needs_background": "light"
     },
     "output_type": "display_data"
    },
    {
     "name": "stdout",
     "output_type": "stream",
     "text": [
      "              precision    recall  f1-score   support\n",
      "\n",
      "           0       1.00      0.92      0.96     92236\n",
      "           1       0.91      1.00      0.95     77374\n",
      "\n",
      "    accuracy                           0.95    169610\n",
      "   macro avg       0.95      0.96      0.95    169610\n",
      "weighted avg       0.96      0.95      0.95    169610\n",
      "\n"
     ]
    }
   ],
   "source": [
    "modèle_XGB_ajusté_SMOTE, la_matrice_SMOTE_modèle_XGB_retenu = dessine_matrice_SMOTE(modèle_XGB_retenu,\n",
    "                                                           'XGBoost')"
   ]
  },
  {
   "cell_type": "code",
   "execution_count": 38,
   "metadata": {},
   "outputs": [
    {
     "data": {
      "image/png": "[encoded data removed]",
      "text/plain": [
       "<Figure size 432x288 with 1 Axes>"
      ]
     },
     "metadata": {
      "needs_background": "light"
     },
     "output_type": "display_data"
    },
    {
     "name": "stdout",
     "output_type": "stream",
     "text": [
      "AUC du modèle XGB SMOTE : 0.67\n"
     ]
    }
   ],
   "source": [
    "auc_XGB_SMOTE, FP_XGB_SMOTE, TP_XGB_SMOTE, seuil_XGB_SMOTE = trace_ROC(modèle_XGB_ajusté_SMOTE,\n",
    "                            'modèle XGB SMOTE')"
   ]
  },
  {
   "cell_type": "markdown",
   "metadata": {},
   "source": [
    "Class weights"
   ]
  },
  {
   "cell_type": "code",
   "execution_count": 39,
   "metadata": {},
   "outputs": [
    {
     "name": "stderr",
     "output_type": "stream",
     "text": [
      "C:\\Users\\Sdis59\\anaconda3\\lib\\site-packages\\sklearn\\utils\\validation.py:70: FutureWarning: Pass classes=[0 1], y=59271     0\n",
      "138703    0\n",
      "122632    0\n",
      "149460    0\n",
      "179062    1\n",
      "         ..\n",
      "180808    0\n",
      "20767     0\n",
      "281533    0\n",
      "307009    0\n",
      "148407    0\n",
      "Name: TARGET, Length: 215254, dtype: int64 as keyword args. From version 1.0 (renaming of 0.25) passing these as positional arguments will result in an error\n",
      "  warnings.warn(f\"Pass {args_msg} as keyword args. From version \"\n"
     ]
    }
   ],
   "source": [
    "from sklearn.utils import class_weight\n",
    "\n",
    "les_poids_par_classe = class_weight.compute_class_weight('balanced',\n",
    "                                                          np.unique(y_entrainement),\n",
    "                                                          y_entrainement)\n",
    "\n",
    "les_poids = {0 : les_poids_par_classe[0],\n",
    "             1 : les_poids_par_classe[1]}\n",
    "\n",
    "les_poids_par_exemple = [les_poids[i] for i in y_entrainement]"
   ]
  },
  {
   "cell_type": "code",
   "execution_count": 40,
   "metadata": {},
   "outputs": [],
   "source": [
    "def dessine_matrice_CW(le_modèle,\n",
    "                    le_nom_du_modèle) :\n",
    "    \n",
    "    le_modèle_ajusté = le_modèle.fit(X_entrainement,\n",
    "                                     y_entrainement,\n",
    "                                     sample_weight = les_poids_par_exemple)\n",
    "    les_valeurs_prédites_du_modèle = le_modèle_ajusté.predict(X_test)\n",
    "\n",
    "    la_matrice = metrics.confusion_matrix(np.array(y_test), \n",
    "                                          les_valeurs_prédites_du_modèle)\n",
    "    \n",
    "    les_textes = np.array((['Vrais négatifs\\n' + str(la_matrice[0][0]),\n",
    "                            'Faux négatifss\\n' + str(la_matrice[0][1])],\n",
    "                            ['Faux positifss\\n' + str(la_matrice[1][0]),\n",
    "                            'Vrais positifs\\n' + str(la_matrice[1][1])]),\n",
    "                            dtype = 'object')\n",
    "\n",
    "    df_résultats = pd.DataFrame(columns = {'prédits',\n",
    "                                           'réels'})\n",
    "    df_résultats['prédits'] = le_modèle_ajusté.predict(X_test) \n",
    "    df_résultats['réels'] = np.array(y_test)\n",
    "\n",
    "    plt.figure(figsize = (5,\n",
    "                        5))\n",
    "    sns.heatmap(la_matrice,\n",
    "                cmap = 'icefire',\n",
    "                annot = les_textes,\n",
    "                fmt = '',\n",
    "                cbar = False,\n",
    "                linewidths = .5)\n",
    "    plt.xlabel('Réels')\n",
    "    plt.ylabel('Prédits')\n",
    "    plt.title('Matrice de confusion du modèle ' + le_nom_du_modèle,\n",
    "              fontsize = 12,\n",
    "              fontweight = 'bold')\n",
    "    plt.show()\n",
    "\n",
    "    print(metrics.classification_report(les_valeurs_prédites_modèle_naïf_retenu,\n",
    "                                                     np.array(y_test)))\n",
    "\n",
    "    return le_modèle_ajusté"
   ]
  },
  {
   "cell_type": "code",
   "execution_count": 41,
   "metadata": {},
   "outputs": [
    {
     "data": {
      "image/png": "[encoded data removed]",
      "text/plain": [
       "<Figure size 360x360 with 1 Axes>"
      ]
     },
     "metadata": {
      "needs_background": "light"
     },
     "output_type": "display_data"
    },
    {
     "name": "stdout",
     "output_type": "stream",
     "text": [
      "              precision    recall  f1-score   support\n",
      "\n",
      "           0       0.92      0.92      0.92     84851\n",
      "           1       0.08      0.08      0.08      7402\n",
      "\n",
      "    accuracy                           0.85     92253\n",
      "   macro avg       0.50      0.50      0.50     92253\n",
      "weighted avg       0.85      0.85      0.85     92253\n",
      "\n"
     ]
    }
   ],
   "source": [
    "modèle_naïf_retenu_ajusté_CW = dessine_matrice_CW(modèle_naïf_retenu,\n",
    "                                            'naïf avec poids des classes')"
   ]
  },
  {
   "cell_type": "code",
   "execution_count": 42,
   "metadata": {},
   "outputs": [
    {
     "data": {
      "image/png": "[encoded data removed]",
      "text/plain": [
       "<Figure size 432x288 with 1 Axes>"
      ]
     },
     "metadata": {
      "needs_background": "light"
     },
     "output_type": "display_data"
    },
    {
     "name": "stdout",
     "output_type": "stream",
     "text": [
      "AUC du modèle naïf avec class weights : 0.50\n"
     ]
    }
   ],
   "source": [
    "auc_modèle_naïf_CW, FP_modèle_naïf_CW, TP_modèle_naïf_CW, seuil_modèle_naïf_CW = trace_ROC(modèle_naïf_retenu_ajusté_CW,\n",
    "                            'modèle naïf avec class weights')"
   ]
  },
  {
   "cell_type": "markdown",
   "metadata": {},
   "source": [
    "XGBoost"
   ]
  },
  {
   "cell_type": "code",
   "execution_count": 43,
   "metadata": {},
   "outputs": [
    {
     "data": {
      "image/png": "[encoded data removed]",
      "text/plain": [
       "<Figure size 360x360 with 1 Axes>"
      ]
     },
     "metadata": {
      "needs_background": "light"
     },
     "output_type": "display_data"
    },
    {
     "name": "stdout",
     "output_type": "stream",
     "text": [
      "              precision    recall  f1-score   support\n",
      "\n",
      "           0       0.92      0.92      0.92     84851\n",
      "           1       0.08      0.08      0.08      7402\n",
      "\n",
      "    accuracy                           0.85     92253\n",
      "   macro avg       0.50      0.50      0.50     92253\n",
      "weighted avg       0.85      0.85      0.85     92253\n",
      "\n"
     ]
    }
   ],
   "source": [
    "modèle_forêt_retenu_ajusté_CW = dessine_matrice_CW(modèle_forêt_retenu,\n",
    "                                                   'forêt avec poids des classes')"
   ]
  },
  {
   "cell_type": "code",
   "execution_count": 44,
   "metadata": {},
   "outputs": [
    {
     "data": {
      "image/png": "[encoded data removed]",
      "text/plain": [
       "<Figure size 432x288 with 1 Axes>"
      ]
     },
     "metadata": {
      "needs_background": "light"
     },
     "output_type": "display_data"
    },
    {
     "name": "stdout",
     "output_type": "stream",
     "text": [
      "AUC du modèle forêt avec class weights : 0.65\n"
     ]
    }
   ],
   "source": [
    "auc_modèle_forêt_CW, FP_modèle_forêt_CW, TP_modèle_forêt_CW, seuil_modèle_forêt_CW = trace_ROC(modèle_forêt_retenu_ajusté_CW,\n",
    "                               'modèle forêt avec class weights')"
   ]
  },
  {
   "cell_type": "code",
   "execution_count": 45,
   "metadata": {},
   "outputs": [
    {
     "name": "stdout",
     "output_type": "stream",
     "text": [
      "[09:03:11] WARNING: C:/Users/Administrator/workspace/xgboost-win64_release_1.4.0/src/learner.cc:1095: Starting in XGBoost 1.3.0, the default evaluation metric used with the objective 'binary:logistic' was changed from 'error' to 'logloss'. Explicitly set eval_metric if you'd like to restore the old behavior.\n"
     ]
    },
    {
     "data": {
      "image/png": "[encoded data removed]",
      "text/plain": [
       "<Figure size 360x360 with 1 Axes>"
      ]
     },
     "metadata": {
      "needs_background": "light"
     },
     "output_type": "display_data"
    },
    {
     "name": "stdout",
     "output_type": "stream",
     "text": [
      "              precision    recall  f1-score   support\n",
      "\n",
      "           0       0.92      0.92      0.92     84851\n",
      "           1       0.08      0.08      0.08      7402\n",
      "\n",
      "    accuracy                           0.85     92253\n",
      "   macro avg       0.50      0.50      0.50     92253\n",
      "weighted avg       0.85      0.85      0.85     92253\n",
      "\n"
     ]
    }
   ],
   "source": [
    "modèle_XGB_retenu_ajusté_CW = dessine_matrice_CW(modèle_XGB_retenu,\n",
    "                   'XGBoost avec poids des classes')"
   ]
  },
  {
   "cell_type": "code",
   "execution_count": 46,
   "metadata": {},
   "outputs": [
    {
     "data": {
      "image/png": "[encoded data removed]",
      "text/plain": [
       "<Figure size 432x288 with 1 Axes>"
      ]
     },
     "metadata": {
      "needs_background": "light"
     },
     "output_type": "display_data"
    },
    {
     "name": "stdout",
     "output_type": "stream",
     "text": [
      "AUC du modèle XGB avec poids des classes : 0.67\n"
     ]
    }
   ],
   "source": [
    "auc_modèle_XGB_CW, FP_modèle_XGB_CW, TP_modèle_XGB_CW, seuil_modèle_XGB_CW  = trace_ROC(modèle_XGB_retenu_ajusté_CW,\n",
    "                       'modèle XGB avec poids des classes')"
   ]
  },
  {
   "cell_type": "code",
   "execution_count": 53,
   "metadata": {},
   "outputs": [],
   "source": [
    "df_résultats_globaux = pd.DataFrame(index = ['naïf',\n",
    "                                             'forêts',\n",
    "                                             'XGB'])\n",
    "df_résultats_globaux['SMOTE'] = [auc_naïf_SMOTE,\n",
    "                                 auc_forêt_SMOTE,\n",
    "                                 auc_XGB_SMOTE]\n",
    "df_résultats_globaux['CW'] = [auc_modèle_naïf_CW,\n",
    "                              auc_modèle_forêt_CW,\n",
    "                              auc_modèle_XGB_CW]\n",
    "df_résultats_globaux['sans ajustement'] = [auc_naïf,\n",
    "                                           auc_forêt,\n",
    "                                           auc_XGB]"
   ]
  },
  {
   "cell_type": "code",
   "execution_count": 54,
   "metadata": {},
   "outputs": [
    {
     "data": {
      "text/html": [
       "<div>\n",
       "<style scoped>\n",
       "    .dataframe tbody tr th:only-of-type {\n",
       "        vertical-align: middle;\n",
       "    }\n",
       "\n",
       "    .dataframe tbody tr th {\n",
       "        vertical-align: top;\n",
       "    }\n",
       "\n",
       "    .dataframe thead th {\n",
       "        text-align: right;\n",
       "    }\n",
       "</style>\n",
       "<table border=\"1\" class=\"dataframe\">\n",
       "  <thead>\n",
       "    <tr style=\"text-align: right;\">\n",
       "      <th></th>\n",
       "      <th>SMOTE</th>\n",
       "      <th>CW</th>\n",
       "      <th>sans ajustement</th>\n",
       "    </tr>\n",
       "  </thead>\n",
       "  <tbody>\n",
       "    <tr>\n",
       "      <th>naïf</th>\n",
       "      <td>0.498170</td>\n",
       "      <td>0.498285</td>\n",
       "      <td>0.500308</td>\n",
       "    </tr>\n",
       "    <tr>\n",
       "      <th>forêts</th>\n",
       "      <td>0.627111</td>\n",
       "      <td>0.651172</td>\n",
       "      <td>0.651172</td>\n",
       "    </tr>\n",
       "    <tr>\n",
       "      <th>XGB</th>\n",
       "      <td>0.674465</td>\n",
       "      <td>0.666264</td>\n",
       "      <td>0.668617</td>\n",
       "    </tr>\n",
       "  </tbody>\n",
       "</table>\n",
       "</div>"
      ],
      "text/plain": [
       "           SMOTE        CW  sans ajustement\n",
       "naïf    0.498170  0.498285         0.500308\n",
       "forêts  0.627111  0.651172         0.651172\n",
       "XGB     0.674465  0.666264         0.668617"
      ]
     },
     "execution_count": 54,
     "metadata": {},
     "output_type": "execute_result"
    }
   ],
   "source": [
    "df_résultats_globaux"
   ]
  },
  {
   "cell_type": "code",
   "execution_count": 55,
   "metadata": {},
   "outputs": [
    {
     "data": {
      "image/png": "[encoded data removed]",
      "text/plain": [
       "<Figure size 504x576 with 1 Axes>"
      ]
     },
     "metadata": {
      "needs_background": "light"
     },
     "output_type": "display_data"
    }
   ],
   "source": [
    "plt.figure(figsize = (7, 8))\n",
    "plt.bar([0, 1.6, 3.2],\n",
    "        height = df_résultats_globaux['sans ajustement'].values,\n",
    "        width = .5,\n",
    "        label = 'Sans ajustement')\n",
    "plt.bar([0.5, 2.1, 3.7],\n",
    "        height = df_résultats_globaux['SMOTE'].values,\n",
    "        width = .5,\n",
    "        label = 'Avec suréchantillonage SMOTE')\n",
    "plt.bar([1, 2.6, 4.2],\n",
    "        height = df_résultats_globaux['CW'].values,\n",
    "        width = .5,\n",
    "        label = 'Avec prise en compte des poids des classes (class weight)')\n",
    "plt.xticks([0.5, 2.1, 3.7],\n",
    "           df_résultats_globaux.index)\n",
    "plt.title('ROCAUC des différents modèles avec ou sans rééchantillonage',\n",
    "          fontsize = 12,\n",
    "          fontweight = 'bold')\n",
    "plt.legend(loc = 'lower right')\n",
    "plt.show()"
   ]
  },
  {
   "cell_type": "markdown",
   "metadata": {},
   "source": [
    "Meilleur modèle : XGBOOST avec SMOTE"
   ]
  },
  {
   "cell_type": "markdown",
   "metadata": {},
   "source": [
    "On va travailler avec le f béta score"
   ]
  },
  {
   "cell_type": "code",
   "execution_count": 65,
   "metadata": {},
   "outputs": [
    {
     "name": "stdout",
     "output_type": "stream",
     "text": [
      "0.716434730641168\n"
     ]
    }
   ],
   "source": [
    "from sklearn.metrics import fbeta_score\n",
    "\n",
    "print(metrics.fbeta_score(y_true = y_test_SMOTE,\n",
    "                          y_pred = modèle_XGB_ajusté_SMOTE.predict(X_test_SMOTE),\n",
    "                          beta = 1))"
   ]
  },
  {
   "cell_type": "code",
   "execution_count": 83,
   "metadata": {},
   "outputs": [
    {
     "data": {
      "text/plain": [
       "0.9003124447326534"
      ]
     },
     "execution_count": 83,
     "metadata": {},
     "output_type": "execute_result"
    }
   ],
   "source": [
    "FP_XGB_SMOTE[np.min(np.where(FP_XGB_SMOTE > 0.9))]"
   ]
  },
  {
   "cell_type": "code",
   "execution_count": 149,
   "metadata": {},
   "outputs": [
    {
     "data": {
      "image/png": "[encoded data removed]",
      "text/plain": [
       "<Figure size 504x720 with 1 Axes>"
      ]
     },
     "metadata": {
      "needs_background": "light"
     },
     "output_type": "display_data"
    }
   ],
   "source": [
    "tableau_des_seuils = np.linspace(0,\n",
    "                                 1,\n",
    "                                 100)\n",
    "liste_des_f_béta_score = []\n",
    "liste_spécificité = []\n",
    "liste_sensibilité = []\n",
    "\n",
    "for le_seuil in tableau_des_seuils :\n",
    "    # Prédits pour un seuil donné\n",
    "    prédits_selon_seuil = (modèle_XGB_ajusté_SMOTE.predict_proba(X_test_SMOTE) >= le_seuil).astype(int)\n",
    "    # Calcul du f béta pour un seuil donné\n",
    "    liste_des_f_béta_score.append(fbeta_score(y_true = y_test_SMOTE,\n",
    "                                              y_pred = prédits_selon_seuil[ : , 1],\n",
    "                                              beta = 1))\n",
    "    # Calcul de la spécificité pour un seuil donné1\n",
    "    liste_spécificité.append(1 - 100 * FP_XGB_SMOTE[np.min(np.where(100 * FP_XGB_SMOTE >= le_seuil))])\n",
    "    # Calcul de la sensibilté pour un seuil donné\n",
    "    liste_sensibilité.append(100 * TP_XGB_SMOTE[np.min(np.where(100 * TP_XGB_SMOTE >= le_seuil))])\n",
    "\n",
    "plt.figure(figsize = (7, 10))\n",
    "plt.plot(tableau_des_seuils,\n",
    "         liste_des_f_béta_score,\n",
    "         label = 'f_béta')\n",
    "plt.plot(tableau_des_seuils,\n",
    "         liste_spécificité,\n",
    "         label = '1 - spécificité')\n",
    "plt.plot(tableau_des_seuils,\n",
    "         liste_sensibilité,\n",
    "         label = 'sensibilité')\n",
    "plt.legend()\n",
    "plt.show()\n",
    "\n"
   ]
  },
  {
   "cell_type": "markdown",
   "metadata": {},
   "source": [
    "Importance des caractéristiques"
   ]
  },
  {
   "cell_type": "code",
   "execution_count": 156,
   "metadata": {},
   "outputs": [
    {
     "ename": "ImportError",
     "evalue": "cannot import name 'xgb' from 'xgboost' (C:\\Users\\Sdis59\\anaconda3\\lib\\site-packages\\xgboost\\__init__.py)",
     "output_type": "error",
     "traceback": [
      "\u001b[1;31m---------------------------------------------------------------------------\u001b[0m",
      "\u001b[1;31mImportError\u001b[0m                               Traceback (most recent call last)",
      "\u001b[1;32m~\\AppData\\Local\\Temp/ipykernel_7148/1847334010.py\u001b[0m in \u001b[0;36m<module>\u001b[1;34m\u001b[0m\n\u001b[0;32m      1\u001b[0m \u001b[1;32mfrom\u001b[0m \u001b[0mxgboost\u001b[0m \u001b[1;32mimport\u001b[0m \u001b[0mplot_importance\u001b[0m\u001b[1;33m\u001b[0m\u001b[1;33m\u001b[0m\u001b[0m\n\u001b[1;32m----> 2\u001b[1;33m \u001b[1;32mfrom\u001b[0m \u001b[0mxgboost\u001b[0m \u001b[1;32mimport\u001b[0m \u001b[0mxgb\u001b[0m\u001b[1;33m\u001b[0m\u001b[1;33m\u001b[0m\u001b[0m\n\u001b[0m\u001b[0;32m      3\u001b[0m \u001b[1;33m\u001b[0m\u001b[0m\n\u001b[0;32m      4\u001b[0m \u001b[1;33m\u001b[0m\u001b[0m\n\u001b[0;32m      5\u001b[0m \u001b[1;33m\u001b[0m\u001b[0m\n",
      "\u001b[1;31mImportError\u001b[0m: cannot import name 'xgb' from 'xgboost' (C:\\Users\\Sdis59\\anaconda3\\lib\\site-packages\\xgboost\\__init__.py)"
     ]
    }
   ],
   "source": [
    "from xgboost import plot_importance\n",
    "from xgboost import xgb\n",
    "\n",
    "\n",
    "\n",
    "# print(\"Feature Importances : \", modèle_XGB_ajusté_SMOTE.feature_importances_)\n",
    "\n",
    "# plot feature importance\n",
    "xgb.ggplot.importance(modèle_XGB_ajusté_SMOTE,\n",
    "                measure = 'frequency')\n",
    "plt.show()"
   ]
  },
  {
   "cell_type": "code",
   "execution_count": null,
   "metadata": {},
   "outputs": [],
   "source": []
  }
 ],
 "metadata": {
  "interpreter": {
   "hash": "e3a17964c5e39d22607d442ffd015f858379f23c91ebbe8b1e06d282be98591c"
  },
  "kernelspec": {
   "display_name": "Python 3.8.8 64-bit ('base': conda)",
   "language": "python",
   "name": "python3"
  },
  "language_info": {
   "codemirror_mode": {
    "name": "ipython",
    "version": 3
   },
   "file_extension": ".py",
   "mimetype": "text/x-python",
   "name": "python",
   "nbconvert_exporter": "python",
   "pygments_lexer": "ipython3",
   "version": "3.8.8"
  },
  "orig_nbformat": 4
 },
 "nbformat": 4,
 "nbformat_minor": 2
}
